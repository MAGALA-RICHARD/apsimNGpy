{
 "cells": [
  {
   "cell_type": "markdown",
   "id": "74191a9f443118e8",
   "metadata": {
    "collapsed": false
   },
   "source": [
    "# Descriptive statistics on simulated results\n",
    "Below is a compact, Jupyter-friendly tutorial for creating descriptive statistics from apsimNGpy simulation outputs—plus an “alternate print” path using tabulate (remember to install it first)."
   ]
  },
  {
   "cell_type": "markdown",
   "id": "eec3175b59177eaf",
   "metadata": {
    "collapsed": false
   },
   "source": [
    "# Prerequisites"
   ]
  },
  {
   "cell_type": "markdown",
   "id": "dc80b3eac0d30da0",
   "metadata": {
    "collapsed": false
   },
   "source": [
    "# core needed libraries\n",
    "pip install apsimNGpy pandas\n",
    "\n",
    "# optional pretty printing (used later)\n",
    "pip install tabulate\n"
   ]
  },
  {
   "cell_type": "markdown",
   "id": "d0399ece60ba0b47",
   "metadata": {
    "collapsed": false
   },
   "source": [
    "First fetch the simulated output as a Pandas data frame\n"
   ]
  },
  {
   "cell_type": "code",
   "execution_count": 25,
   "id": "da1e43576244ee7c",
   "metadata": {
    "collapsed": false,
    "ExecuteTime": {
     "end_time": "2025-10-06T01:05:45.713570100Z",
     "start_time": "2025-10-06T01:05:40.438205Z"
    }
   },
   "outputs": [
    {
     "data": {
      "text/plain": "   CheckpointID  SimulationID   Zone          Clock.Today  \\\n0             1             1  Field  1991-05-28 00:00:00   \n1             1             1  Field  1992-04-09 00:00:00   \n2             1             1  Field  1993-03-16 00:00:00   \n3             1             1  Field  1994-03-15 00:00:00   \n4             1             1  Field  1995-04-04 00:00:00   \n\n  Maize.Phenology.CurrentStageName  Maize.AboveGround.Wt  Maize.AboveGround.N  \\\n0                      HarvestRipe           1603.309641            15.578250   \n1                      HarvestRipe            849.734144             9.684291   \n2                      HarvestRipe            182.766781             1.861545   \n3                      HarvestRipe            795.133784             8.344360   \n4                      HarvestRipe           1525.129268            16.481579   \n\n         Yield  Maize.Grain.Wt  Maize.Grain.Size  Maize.Grain.NumberFunction  \\\n0  8469.615813      846.961581          0.278267                 3043.698222   \n1  4674.514452      467.451445          0.273804                 1707.246422   \n2   555.021350       55.502135          0.304067                  182.532674   \n3  3504.274669      350.427467          0.226733                 1545.553056   \n4  7820.119109      782.011911          0.273512                 2859.155304   \n\n   Maize.Grain.Total.Wt  Maize.Grain.N  Maize.Total.Wt source_table  \n0            846.961581      11.178291     1728.427114       Report  \n1            467.451445       6.226327      922.393712       Report  \n2             55.502135       0.752357      204.108770       Report  \n3            350.427467       4.886844      869.242545       Report  \n4            782.011911      10.463854     1665.483701       Report  ",
      "text/html": "<div>\n<style scoped>\n    .dataframe tbody tr th:only-of-type {\n        vertical-align: middle;\n    }\n\n    .dataframe tbody tr th {\n        vertical-align: top;\n    }\n\n    .dataframe thead th {\n        text-align: right;\n    }\n</style>\n<table border=\"1\" class=\"dataframe\">\n  <thead>\n    <tr style=\"text-align: right;\">\n      <th></th>\n      <th>CheckpointID</th>\n      <th>SimulationID</th>\n      <th>Zone</th>\n      <th>Clock.Today</th>\n      <th>Maize.Phenology.CurrentStageName</th>\n      <th>Maize.AboveGround.Wt</th>\n      <th>Maize.AboveGround.N</th>\n      <th>Yield</th>\n      <th>Maize.Grain.Wt</th>\n      <th>Maize.Grain.Size</th>\n      <th>Maize.Grain.NumberFunction</th>\n      <th>Maize.Grain.Total.Wt</th>\n      <th>Maize.Grain.N</th>\n      <th>Maize.Total.Wt</th>\n      <th>source_table</th>\n    </tr>\n  </thead>\n  <tbody>\n    <tr>\n      <th>0</th>\n      <td>1</td>\n      <td>1</td>\n      <td>Field</td>\n      <td>1991-05-28 00:00:00</td>\n      <td>HarvestRipe</td>\n      <td>1603.309641</td>\n      <td>15.578250</td>\n      <td>8469.615813</td>\n      <td>846.961581</td>\n      <td>0.278267</td>\n      <td>3043.698222</td>\n      <td>846.961581</td>\n      <td>11.178291</td>\n      <td>1728.427114</td>\n      <td>Report</td>\n    </tr>\n    <tr>\n      <th>1</th>\n      <td>1</td>\n      <td>1</td>\n      <td>Field</td>\n      <td>1992-04-09 00:00:00</td>\n      <td>HarvestRipe</td>\n      <td>849.734144</td>\n      <td>9.684291</td>\n      <td>4674.514452</td>\n      <td>467.451445</td>\n      <td>0.273804</td>\n      <td>1707.246422</td>\n      <td>467.451445</td>\n      <td>6.226327</td>\n      <td>922.393712</td>\n      <td>Report</td>\n    </tr>\n    <tr>\n      <th>2</th>\n      <td>1</td>\n      <td>1</td>\n      <td>Field</td>\n      <td>1993-03-16 00:00:00</td>\n      <td>HarvestRipe</td>\n      <td>182.766781</td>\n      <td>1.861545</td>\n      <td>555.021350</td>\n      <td>55.502135</td>\n      <td>0.304067</td>\n      <td>182.532674</td>\n      <td>55.502135</td>\n      <td>0.752357</td>\n      <td>204.108770</td>\n      <td>Report</td>\n    </tr>\n    <tr>\n      <th>3</th>\n      <td>1</td>\n      <td>1</td>\n      <td>Field</td>\n      <td>1994-03-15 00:00:00</td>\n      <td>HarvestRipe</td>\n      <td>795.133784</td>\n      <td>8.344360</td>\n      <td>3504.274669</td>\n      <td>350.427467</td>\n      <td>0.226733</td>\n      <td>1545.553056</td>\n      <td>350.427467</td>\n      <td>4.886844</td>\n      <td>869.242545</td>\n      <td>Report</td>\n    </tr>\n    <tr>\n      <th>4</th>\n      <td>1</td>\n      <td>1</td>\n      <td>Field</td>\n      <td>1995-04-04 00:00:00</td>\n      <td>HarvestRipe</td>\n      <td>1525.129268</td>\n      <td>16.481579</td>\n      <td>7820.119109</td>\n      <td>782.011911</td>\n      <td>0.273512</td>\n      <td>2859.155304</td>\n      <td>782.011911</td>\n      <td>10.463854</td>\n      <td>1665.483701</td>\n      <td>Report</td>\n    </tr>\n  </tbody>\n</table>\n</div>"
     },
     "execution_count": 25,
     "metadata": {},
     "output_type": "execute_result"
    }
   ],
   "source": [
    "import pandas as pd\n",
    "from apsimNGpy.core.apsim import ApsimModel\n",
    "\n",
    "# Load a built-in template; omit the .apsimx suffix for templates\n",
    "model = ApsimModel('Maize')\n",
    "\n",
    "# If your file hasn’t been run yet, you may need:\n",
    "model.run()\n",
    "\n",
    "# Pull the “Report” table as a pandas DataFrame\n",
    "df = model.get_simulated_output('Report')  # NOTE: correct quotes\n",
    "\n",
    "# Optional: parse dates if present\n",
    "if 'Date' in df.columns:\n",
    "    df['Date'] = pd.to_datetime(df['Date'], errors='coerce')\n",
    "\n",
    "df.head()\n"
   ]
  },
  {
   "cell_type": "markdown",
   "id": "af14ee440cc97d79",
   "metadata": {
    "collapsed": false
   },
   "source": [
    "Whole-dataset descriptive statistics"
   ]
  },
  {
   "cell_type": "code",
   "execution_count": 26,
   "id": "8dbcacea37cb990f",
   "metadata": {
    "collapsed": false,
    "ExecuteTime": {
     "end_time": "2025-10-06T01:05:45.725137Z",
     "start_time": "2025-10-06T01:05:45.708247500Z"
    }
   },
   "outputs": [
    {
     "data": {
      "text/plain": "                            count      mean       std  cv_percent      min  \\\nCheckpointID                 10.0     1.000     0.000       0.000    1.000   \nSimulationID                 10.0     1.000     0.000       0.000    1.000   \nMaize.AboveGround.Wt         10.0  1225.100   561.129      45.803  182.767   \nMaize.AboveGround.N          10.0    12.381     5.400      43.611    1.862   \nYield                        10.0  5636.530  2895.961      51.378  555.021   \nMaize.Grain.Wt               10.0   563.653   289.596      51.378   55.502   \nMaize.Grain.Size             10.0     0.285     0.024       8.339    0.227   \nMaize.Grain.NumberFunction   10.0  1986.771   992.188      49.940  182.533   \nMaize.Grain.Total.Wt         10.0   563.653   289.596      51.378   55.502   \nMaize.Grain.N                10.0     7.459     3.754      50.331    0.752   \nMaize.Total.Wt               10.0  1340.837   601.857      44.887  204.109   \n\n                                 q25    median       q75       max  \nCheckpointID                   1.000     1.000     1.000     1.000  \nSimulationID                   1.000     1.000     1.000     1.000  \nMaize.AboveGround.Wt         840.745  1318.364  1587.793  1968.461  \nMaize.AboveGround.N            8.679    13.336    16.461    18.309  \nYield                       3578.665  6033.993  8239.976  8823.516  \nMaize.Grain.Wt               357.866   603.399   823.998   882.352  \nMaize.Grain.Size               0.275     0.295     0.299     0.305  \nMaize.Grain.NumberFunction  1339.924  2123.083  2846.481  3043.698  \nMaize.Grain.Total.Wt         357.866   603.399   823.998   882.352  \nMaize.Grain.N                  4.926     7.989    10.927    11.254  \nMaize.Total.Wt               929.621  1463.579  1719.794  2124.740  ",
      "text/html": "<div>\n<style scoped>\n    .dataframe tbody tr th:only-of-type {\n        vertical-align: middle;\n    }\n\n    .dataframe tbody tr th {\n        vertical-align: top;\n    }\n\n    .dataframe thead th {\n        text-align: right;\n    }\n</style>\n<table border=\"1\" class=\"dataframe\">\n  <thead>\n    <tr style=\"text-align: right;\">\n      <th></th>\n      <th>count</th>\n      <th>mean</th>\n      <th>std</th>\n      <th>cv_percent</th>\n      <th>min</th>\n      <th>q25</th>\n      <th>median</th>\n      <th>q75</th>\n      <th>max</th>\n    </tr>\n  </thead>\n  <tbody>\n    <tr>\n      <th>CheckpointID</th>\n      <td>10.0</td>\n      <td>1.000</td>\n      <td>0.000</td>\n      <td>0.000</td>\n      <td>1.000</td>\n      <td>1.000</td>\n      <td>1.000</td>\n      <td>1.000</td>\n      <td>1.000</td>\n    </tr>\n    <tr>\n      <th>SimulationID</th>\n      <td>10.0</td>\n      <td>1.000</td>\n      <td>0.000</td>\n      <td>0.000</td>\n      <td>1.000</td>\n      <td>1.000</td>\n      <td>1.000</td>\n      <td>1.000</td>\n      <td>1.000</td>\n    </tr>\n    <tr>\n      <th>Maize.AboveGround.Wt</th>\n      <td>10.0</td>\n      <td>1225.100</td>\n      <td>561.129</td>\n      <td>45.803</td>\n      <td>182.767</td>\n      <td>840.745</td>\n      <td>1318.364</td>\n      <td>1587.793</td>\n      <td>1968.461</td>\n    </tr>\n    <tr>\n      <th>Maize.AboveGround.N</th>\n      <td>10.0</td>\n      <td>12.381</td>\n      <td>5.400</td>\n      <td>43.611</td>\n      <td>1.862</td>\n      <td>8.679</td>\n      <td>13.336</td>\n      <td>16.461</td>\n      <td>18.309</td>\n    </tr>\n    <tr>\n      <th>Yield</th>\n      <td>10.0</td>\n      <td>5636.530</td>\n      <td>2895.961</td>\n      <td>51.378</td>\n      <td>555.021</td>\n      <td>3578.665</td>\n      <td>6033.993</td>\n      <td>8239.976</td>\n      <td>8823.516</td>\n    </tr>\n    <tr>\n      <th>Maize.Grain.Wt</th>\n      <td>10.0</td>\n      <td>563.653</td>\n      <td>289.596</td>\n      <td>51.378</td>\n      <td>55.502</td>\n      <td>357.866</td>\n      <td>603.399</td>\n      <td>823.998</td>\n      <td>882.352</td>\n    </tr>\n    <tr>\n      <th>Maize.Grain.Size</th>\n      <td>10.0</td>\n      <td>0.285</td>\n      <td>0.024</td>\n      <td>8.339</td>\n      <td>0.227</td>\n      <td>0.275</td>\n      <td>0.295</td>\n      <td>0.299</td>\n      <td>0.305</td>\n    </tr>\n    <tr>\n      <th>Maize.Grain.NumberFunction</th>\n      <td>10.0</td>\n      <td>1986.771</td>\n      <td>992.188</td>\n      <td>49.940</td>\n      <td>182.533</td>\n      <td>1339.924</td>\n      <td>2123.083</td>\n      <td>2846.481</td>\n      <td>3043.698</td>\n    </tr>\n    <tr>\n      <th>Maize.Grain.Total.Wt</th>\n      <td>10.0</td>\n      <td>563.653</td>\n      <td>289.596</td>\n      <td>51.378</td>\n      <td>55.502</td>\n      <td>357.866</td>\n      <td>603.399</td>\n      <td>823.998</td>\n      <td>882.352</td>\n    </tr>\n    <tr>\n      <th>Maize.Grain.N</th>\n      <td>10.0</td>\n      <td>7.459</td>\n      <td>3.754</td>\n      <td>50.331</td>\n      <td>0.752</td>\n      <td>4.926</td>\n      <td>7.989</td>\n      <td>10.927</td>\n      <td>11.254</td>\n    </tr>\n    <tr>\n      <th>Maize.Total.Wt</th>\n      <td>10.0</td>\n      <td>1340.837</td>\n      <td>601.857</td>\n      <td>44.887</td>\n      <td>204.109</td>\n      <td>929.621</td>\n      <td>1463.579</td>\n      <td>1719.794</td>\n      <td>2124.740</td>\n    </tr>\n  </tbody>\n</table>\n</div>"
     },
     "execution_count": 26,
     "metadata": {},
     "output_type": "execute_result"
    }
   ],
   "source": [
    "# Select numeric columns only\n",
    "num = df.select_dtypes('number')\n",
    "\n",
    "# Basic summary\n",
    "basic = num.agg(['count', 'mean', 'std', 'min', 'median', 'max']).T\n",
    "\n",
    "# Add CV% and IQR\n",
    "q = num.quantile([0.25, 0.75]).T.rename(columns={0.25: 'q25', 0.75: 'q75'})\n",
    "summary = (\n",
    "    basic\n",
    "    .join(q)\n",
    "    .assign(cv_percent=lambda x: (x['std'] / x['mean']) * 100)\n",
    ")[['count','mean','std','cv_percent','min','q25','median','q75','max']]\n",
    "\n",
    "summary.round(3)\n"
   ]
  },
  {
   "cell_type": "markdown",
   "id": "41bae52932b4817c",
   "metadata": {
    "collapsed": false
   },
   "source": [
    "# Grouped descriptive statistics (e.g., by simulation or treatment)\n",
    "For this example, we need the `ExperimentManager`` Class, where we can create some varying treatment levels\n",
    "\n"
   ]
  },
  {
   "cell_type": "code",
   "execution_count": 27,
   "id": "9c6a49eaa47b7b7f",
   "metadata": {
    "collapsed": false,
    "ExecuteTime": {
     "end_time": "2025-10-06T01:05:46.137668700Z",
     "start_time": "2025-10-06T01:05:45.726212500Z"
    }
   },
   "outputs": [],
   "source": [
    "from apsimNGpy.core.experimentmanager import ExperimentManager\n",
    "experiment = ExperimentManager(model ='Maize')\n",
    "# init the experiment\n",
    "experiment.init_experiment(permutation=True)"
   ]
  },
  {
   "cell_type": "code",
   "execution_count": 28,
   "id": "9ff77f2265c25801",
   "metadata": {
    "collapsed": false,
    "ExecuteTime": {
     "end_time": "2025-10-06T01:05:46.184998800Z",
     "start_time": "2025-10-06T01:05:46.140777700Z"
    }
   },
   "outputs": [],
   "source": [
    "# add factors\n",
    "# Population \n",
    "experiment.add_factor(specification='[Sow using a variable rule].Script.Population = 4, 10')\n",
    "# Nitrogen fertilizers\n",
    "experiment.add_factor(specification='[Fertilise at sowing].Script.Amount= 0, 100, 250')"
   ]
  },
  {
   "cell_type": "code",
   "execution_count": 29,
   "id": "627e94341f726702",
   "metadata": {
    "collapsed": false,
    "ExecuteTime": {
     "end_time": "2025-10-06T01:05:51.814696600Z",
     "start_time": "2025-10-06T01:05:46.167438100Z"
    }
   },
   "outputs": [
    {
     "data": {
      "text/plain": "<apsimNGpy.core.experimentmanager.ExperimentManager at 0x1be070f7230>"
     },
     "execution_count": 29,
     "metadata": {},
     "output_type": "execute_result"
    }
   ],
   "source": [
    "# run the model\n",
    "experiment.run()\n"
   ]
  },
  {
   "cell_type": "code",
   "execution_count": 30,
   "id": "36664b938eed795d",
   "metadata": {
    "collapsed": false,
    "ExecuteTime": {
     "end_time": "2025-10-06T01:05:51.854372700Z",
     "start_time": "2025-10-06T01:05:51.815732Z"
    }
   },
   "outputs": [
    {
     "data": {
      "text/plain": "           Maize.AboveGround.Wt                                      \\\n                          count         mean         std        min   \nPopulation                                                            \n10                         30.0  1023.149316  679.233139  51.839211   \n4                          30.0   833.514829  498.292113  95.929389   \n\n                                                              \\\n                   25%         50%          75%          max   \nPopulation                                                     \n10          376.512882  957.618178  1711.841339  2264.040816   \n4           378.798654  730.381548  1304.292352  1581.477986   \n\n           Maize.AboveGround.N            ... Maize.Grain.N             \\\n                         count      mean  ...           75%        max   \nPopulation                                ...                            \n10                        30.0  9.226772  ...      9.920687  13.799286   \n4                         30.0  7.821089  ...      8.471362   8.614249   \n\n           Maize.Total.Wt                                                 \\\n                    count         mean         std        min        25%   \nPopulation                                                                 \n10                   30.0  1117.193169  735.000161  54.190895  418.61514   \n4                    30.0   911.572687  539.611861  98.643186  405.36254   \n\n                                                   \n                    50%          75%          max  \nPopulation                                         \n10          1054.522347  1841.706002  2443.652362  \n4            822.260251  1423.753687  1708.187637  \n\n[2 rows x 64 columns]",
      "text/html": "<div>\n<style scoped>\n    .dataframe tbody tr th:only-of-type {\n        vertical-align: middle;\n    }\n\n    .dataframe tbody tr th {\n        vertical-align: top;\n    }\n\n    .dataframe thead tr th {\n        text-align: left;\n    }\n\n    .dataframe thead tr:last-of-type th {\n        text-align: right;\n    }\n</style>\n<table border=\"1\" class=\"dataframe\">\n  <thead>\n    <tr>\n      <th></th>\n      <th colspan=\"8\" halign=\"left\">Maize.AboveGround.Wt</th>\n      <th colspan=\"2\" halign=\"left\">Maize.AboveGround.N</th>\n      <th>...</th>\n      <th colspan=\"2\" halign=\"left\">Maize.Grain.N</th>\n      <th colspan=\"8\" halign=\"left\">Maize.Total.Wt</th>\n    </tr>\n    <tr>\n      <th></th>\n      <th>count</th>\n      <th>mean</th>\n      <th>std</th>\n      <th>min</th>\n      <th>25%</th>\n      <th>50%</th>\n      <th>75%</th>\n      <th>max</th>\n      <th>count</th>\n      <th>mean</th>\n      <th>...</th>\n      <th>75%</th>\n      <th>max</th>\n      <th>count</th>\n      <th>mean</th>\n      <th>std</th>\n      <th>min</th>\n      <th>25%</th>\n      <th>50%</th>\n      <th>75%</th>\n      <th>max</th>\n    </tr>\n    <tr>\n      <th>Population</th>\n      <th></th>\n      <th></th>\n      <th></th>\n      <th></th>\n      <th></th>\n      <th></th>\n      <th></th>\n      <th></th>\n      <th></th>\n      <th></th>\n      <th></th>\n      <th></th>\n      <th></th>\n      <th></th>\n      <th></th>\n      <th></th>\n      <th></th>\n      <th></th>\n      <th></th>\n      <th></th>\n      <th></th>\n    </tr>\n  </thead>\n  <tbody>\n    <tr>\n      <th>10</th>\n      <td>30.0</td>\n      <td>1023.149316</td>\n      <td>679.233139</td>\n      <td>51.839211</td>\n      <td>376.512882</td>\n      <td>957.618178</td>\n      <td>1711.841339</td>\n      <td>2264.040816</td>\n      <td>30.0</td>\n      <td>9.226772</td>\n      <td>...</td>\n      <td>9.920687</td>\n      <td>13.799286</td>\n      <td>30.0</td>\n      <td>1117.193169</td>\n      <td>735.000161</td>\n      <td>54.190895</td>\n      <td>418.61514</td>\n      <td>1054.522347</td>\n      <td>1841.706002</td>\n      <td>2443.652362</td>\n    </tr>\n    <tr>\n      <th>4</th>\n      <td>30.0</td>\n      <td>833.514829</td>\n      <td>498.292113</td>\n      <td>95.929389</td>\n      <td>378.798654</td>\n      <td>730.381548</td>\n      <td>1304.292352</td>\n      <td>1581.477986</td>\n      <td>30.0</td>\n      <td>7.821089</td>\n      <td>...</td>\n      <td>8.471362</td>\n      <td>8.614249</td>\n      <td>30.0</td>\n      <td>911.572687</td>\n      <td>539.611861</td>\n      <td>98.643186</td>\n      <td>405.36254</td>\n      <td>822.260251</td>\n      <td>1423.753687</td>\n      <td>1708.187637</td>\n    </tr>\n  </tbody>\n</table>\n<p>2 rows × 64 columns</p>\n</div>"
     },
     "execution_count": 30,
     "metadata": {},
     "output_type": "execute_result"
    }
   ],
   "source": [
    "# Pick one or more grouping columns that exist in your Report table\n",
    "df = experiment.get_simulated_output('Report')\n",
    "df.sort_values(by =['Amount', 'Population'], inplace=True, ascending=True)\n",
    "possible_groups = ['Population', 'Amount']\n",
    "# drop some useless columns at this moment\n",
    "fd = df.drop(columns=['CheckpointID', 'SimulationID', 'Maize.Phenology.CurrentStageName', 'Maize.Grain.NumberFunction'])\n",
    "# describe stats by Population density\n",
    "\n",
    "fd.groupby('Population').describe()\n"
   ]
  },
  {
   "cell_type": "code",
   "execution_count": 31,
   "id": "4c3c805589b74db8",
   "metadata": {
    "collapsed": false,
    "ExecuteTime": {
     "end_time": "2025-10-06T01:05:51.894667200Z",
     "start_time": "2025-10-06T01:05:51.846802Z"
    }
   },
   "outputs": [
    {
     "data": {
      "text/plain": "       Maize.AboveGround.Wt                                                   \\\n                      count         mean         std         min         25%   \nAmount                                                                         \n0                      20.0   422.823010  330.286348   51.839211  168.405380   \n100                    20.0  1146.095642  505.533414  194.722345  757.606624   \n250                    20.0  1216.077566  583.806947  173.308647  835.813804   \n\n                                              Maize.AboveGround.N             \\\n                50%          75%          max               count       mean   \nAmount                                                                         \n0        279.495675   625.191674  1104.547283                20.0   2.778272   \n100     1085.634949  1557.735465  2121.567847                20.0  10.406211   \n250     1207.132779  1634.600521  2264.040816                20.0  12.387308   \n\n        ... Maize.Grain.N            Maize.Total.Wt                           \\\n        ...           75%        max          count         mean         std   \nAmount  ...                                                                    \n0       ...      2.763979   5.135540           20.0   459.997610  362.978715   \n100     ...      8.540822  13.597501           20.0  1255.045211  539.389196   \n250     ...      9.251442  13.799286           20.0  1328.105963  625.767507   \n\n                                                                       \n               min         25%          50%          75%          max  \nAmount                                                                 \n0        54.190895  179.284589   298.047183   700.102432  1204.283831  \n100     218.291141  840.215573  1236.516379  1683.344770  2288.694976  \n250     193.824020  913.423963  1352.608751  1769.777315  2443.652362  \n\n[3 rows x 64 columns]",
      "text/html": "<div>\n<style scoped>\n    .dataframe tbody tr th:only-of-type {\n        vertical-align: middle;\n    }\n\n    .dataframe tbody tr th {\n        vertical-align: top;\n    }\n\n    .dataframe thead tr th {\n        text-align: left;\n    }\n\n    .dataframe thead tr:last-of-type th {\n        text-align: right;\n    }\n</style>\n<table border=\"1\" class=\"dataframe\">\n  <thead>\n    <tr>\n      <th></th>\n      <th colspan=\"8\" halign=\"left\">Maize.AboveGround.Wt</th>\n      <th colspan=\"2\" halign=\"left\">Maize.AboveGround.N</th>\n      <th>...</th>\n      <th colspan=\"2\" halign=\"left\">Maize.Grain.N</th>\n      <th colspan=\"8\" halign=\"left\">Maize.Total.Wt</th>\n    </tr>\n    <tr>\n      <th></th>\n      <th>count</th>\n      <th>mean</th>\n      <th>std</th>\n      <th>min</th>\n      <th>25%</th>\n      <th>50%</th>\n      <th>75%</th>\n      <th>max</th>\n      <th>count</th>\n      <th>mean</th>\n      <th>...</th>\n      <th>75%</th>\n      <th>max</th>\n      <th>count</th>\n      <th>mean</th>\n      <th>std</th>\n      <th>min</th>\n      <th>25%</th>\n      <th>50%</th>\n      <th>75%</th>\n      <th>max</th>\n    </tr>\n    <tr>\n      <th>Amount</th>\n      <th></th>\n      <th></th>\n      <th></th>\n      <th></th>\n      <th></th>\n      <th></th>\n      <th></th>\n      <th></th>\n      <th></th>\n      <th></th>\n      <th></th>\n      <th></th>\n      <th></th>\n      <th></th>\n      <th></th>\n      <th></th>\n      <th></th>\n      <th></th>\n      <th></th>\n      <th></th>\n      <th></th>\n    </tr>\n  </thead>\n  <tbody>\n    <tr>\n      <th>0</th>\n      <td>20.0</td>\n      <td>422.823010</td>\n      <td>330.286348</td>\n      <td>51.839211</td>\n      <td>168.405380</td>\n      <td>279.495675</td>\n      <td>625.191674</td>\n      <td>1104.547283</td>\n      <td>20.0</td>\n      <td>2.778272</td>\n      <td>...</td>\n      <td>2.763979</td>\n      <td>5.135540</td>\n      <td>20.0</td>\n      <td>459.997610</td>\n      <td>362.978715</td>\n      <td>54.190895</td>\n      <td>179.284589</td>\n      <td>298.047183</td>\n      <td>700.102432</td>\n      <td>1204.283831</td>\n    </tr>\n    <tr>\n      <th>100</th>\n      <td>20.0</td>\n      <td>1146.095642</td>\n      <td>505.533414</td>\n      <td>194.722345</td>\n      <td>757.606624</td>\n      <td>1085.634949</td>\n      <td>1557.735465</td>\n      <td>2121.567847</td>\n      <td>20.0</td>\n      <td>10.406211</td>\n      <td>...</td>\n      <td>8.540822</td>\n      <td>13.597501</td>\n      <td>20.0</td>\n      <td>1255.045211</td>\n      <td>539.389196</td>\n      <td>218.291141</td>\n      <td>840.215573</td>\n      <td>1236.516379</td>\n      <td>1683.344770</td>\n      <td>2288.694976</td>\n    </tr>\n    <tr>\n      <th>250</th>\n      <td>20.0</td>\n      <td>1216.077566</td>\n      <td>583.806947</td>\n      <td>173.308647</td>\n      <td>835.813804</td>\n      <td>1207.132779</td>\n      <td>1634.600521</td>\n      <td>2264.040816</td>\n      <td>20.0</td>\n      <td>12.387308</td>\n      <td>...</td>\n      <td>9.251442</td>\n      <td>13.799286</td>\n      <td>20.0</td>\n      <td>1328.105963</td>\n      <td>625.767507</td>\n      <td>193.824020</td>\n      <td>913.423963</td>\n      <td>1352.608751</td>\n      <td>1769.777315</td>\n      <td>2443.652362</td>\n    </tr>\n  </tbody>\n</table>\n<p>3 rows × 64 columns</p>\n</div>"
     },
     "execution_count": 31,
     "metadata": {},
     "output_type": "execute_result"
    }
   ],
   "source": [
    "fd.groupby(\"Amount\").describe()"
   ]
  },
  {
   "cell_type": "markdown",
   "id": "e5577607020f6553",
   "metadata": {
    "collapsed": false
   },
   "source": [
    "That is incredible but produces a lot of data, some of which is distractive, so, let target columns"
   ]
  },
  {
   "cell_type": "code",
   "execution_count": 32,
   "id": "343f6f102aa68fc6",
   "metadata": {
    "collapsed": false,
    "ExecuteTime": {
     "end_time": "2025-10-06T01:05:51.895668300Z",
     "start_time": "2025-10-06T01:05:51.875084700Z"
    }
   },
   "outputs": [
    {
     "data": {
      "text/plain": "            count         mean          std         min          25%  \\\nPopulation                                                             \n10           30.0  4320.963740  3559.891362    0.000000  1546.607701   \n4            30.0  3833.589273  2231.817671  510.191575  2005.485833   \n\n                    50%          75%           max  \nPopulation                                          \n10          2949.856609  8118.486552  10839.453802  \n4           3643.115097  6524.340540   6628.079544  ",
      "text/html": "<div>\n<style scoped>\n    .dataframe tbody tr th:only-of-type {\n        vertical-align: middle;\n    }\n\n    .dataframe tbody tr th {\n        vertical-align: top;\n    }\n\n    .dataframe thead th {\n        text-align: right;\n    }\n</style>\n<table border=\"1\" class=\"dataframe\">\n  <thead>\n    <tr style=\"text-align: right;\">\n      <th></th>\n      <th>count</th>\n      <th>mean</th>\n      <th>std</th>\n      <th>min</th>\n      <th>25%</th>\n      <th>50%</th>\n      <th>75%</th>\n      <th>max</th>\n    </tr>\n    <tr>\n      <th>Population</th>\n      <th></th>\n      <th></th>\n      <th></th>\n      <th></th>\n      <th></th>\n      <th></th>\n      <th></th>\n      <th></th>\n    </tr>\n  </thead>\n  <tbody>\n    <tr>\n      <th>10</th>\n      <td>30.0</td>\n      <td>4320.963740</td>\n      <td>3559.891362</td>\n      <td>0.000000</td>\n      <td>1546.607701</td>\n      <td>2949.856609</td>\n      <td>8118.486552</td>\n      <td>10839.453802</td>\n    </tr>\n    <tr>\n      <th>4</th>\n      <td>30.0</td>\n      <td>3833.589273</td>\n      <td>2231.817671</td>\n      <td>510.191575</td>\n      <td>2005.485833</td>\n      <td>3643.115097</td>\n      <td>6524.340540</td>\n      <td>6628.079544</td>\n    </tr>\n  </tbody>\n</table>\n</div>"
     },
     "execution_count": 32,
     "metadata": {},
     "output_type": "execute_result"
    }
   ],
   "source": [
    "# group by population and summarize the values by Yield\n",
    "df.groupby(\"Population\")['Yield'].describe()"
   ]
  },
  {
   "cell_type": "code",
   "execution_count": 33,
   "id": "571c4a0cdc57178b",
   "metadata": {
    "collapsed": false,
    "ExecuteTime": {
     "end_time": "2025-10-06T01:05:51.985475200Z",
     "start_time": "2025-10-06T01:05:51.884930300Z"
    }
   },
   "outputs": [
    {
     "data": {
      "text/plain": "        count         mean          std         min          25%          50%  \\\nAmount                                                                          \n0        20.0  1768.197406  1258.126749    0.000000   884.045308  1279.238795   \n100      20.0  5013.683796  2689.892217  870.224406  3150.963749  4087.518866   \n250      20.0  5449.948317  3129.788593   13.881360  3274.970110  5574.223813   \n\n                75%           max  \nAmount                             \n0       2589.150347   4462.043386  \n100     6611.628757  10442.634519  \n250     7066.200540  10839.453802  ",
      "text/html": "<div>\n<style scoped>\n    .dataframe tbody tr th:only-of-type {\n        vertical-align: middle;\n    }\n\n    .dataframe tbody tr th {\n        vertical-align: top;\n    }\n\n    .dataframe thead th {\n        text-align: right;\n    }\n</style>\n<table border=\"1\" class=\"dataframe\">\n  <thead>\n    <tr style=\"text-align: right;\">\n      <th></th>\n      <th>count</th>\n      <th>mean</th>\n      <th>std</th>\n      <th>min</th>\n      <th>25%</th>\n      <th>50%</th>\n      <th>75%</th>\n      <th>max</th>\n    </tr>\n    <tr>\n      <th>Amount</th>\n      <th></th>\n      <th></th>\n      <th></th>\n      <th></th>\n      <th></th>\n      <th></th>\n      <th></th>\n      <th></th>\n    </tr>\n  </thead>\n  <tbody>\n    <tr>\n      <th>0</th>\n      <td>20.0</td>\n      <td>1768.197406</td>\n      <td>1258.126749</td>\n      <td>0.000000</td>\n      <td>884.045308</td>\n      <td>1279.238795</td>\n      <td>2589.150347</td>\n      <td>4462.043386</td>\n    </tr>\n    <tr>\n      <th>100</th>\n      <td>20.0</td>\n      <td>5013.683796</td>\n      <td>2689.892217</td>\n      <td>870.224406</td>\n      <td>3150.963749</td>\n      <td>4087.518866</td>\n      <td>6611.628757</td>\n      <td>10442.634519</td>\n    </tr>\n    <tr>\n      <th>250</th>\n      <td>20.0</td>\n      <td>5449.948317</td>\n      <td>3129.788593</td>\n      <td>13.881360</td>\n      <td>3274.970110</td>\n      <td>5574.223813</td>\n      <td>7066.200540</td>\n      <td>10839.453802</td>\n    </tr>\n  </tbody>\n</table>\n</div>"
     },
     "execution_count": 33,
     "metadata": {},
     "output_type": "execute_result"
    }
   ],
   "source": [
    "# group by amount and summarize the values by Yield\n",
    "df.groupby(\"Amount\")['Yield'].describe()"
   ]
  },
  {
   "cell_type": "markdown",
   "id": "588dfefb8073a939",
   "metadata": {
    "collapsed": false
   },
   "source": [
    "A big surprise here is that the minimum for the lower nitrogen(N) rate was actually higher than for the high N rates"
   ]
  },
  {
   "cell_type": "markdown",
   "id": "dd364948f24ef639",
   "metadata": {
    "collapsed": false
   },
   "source": [
    "# Time-based summaries (monthly/annual), optionally per group\n",
    "For these examples, a date column is needed to be available in the dataset"
   ]
  },
  {
   "cell_type": "code",
   "execution_count": 34,
   "id": "19979d961cb7d509",
   "metadata": {
    "collapsed": false,
    "ExecuteTime": {
     "end_time": "2025-10-06T01:05:52.042569400Z",
     "start_time": "2025-10-06T01:05:51.894667200Z"
    }
   },
   "outputs": [
    {
     "data": {
      "text/plain": "  Population       Date  CheckpointID  SimulationID  Maize.AboveGround.Wt  \\\n0         10 1991-12-31           1.0      2.666667           1542.284663   \n1         10 1992-12-31           1.0      2.666667            585.478374   \n2         10 1993-12-31           1.0      2.666667            253.653281   \n3         10 1994-12-31           1.0      2.666667            626.201366   \n4         10 1995-12-31           1.0      2.666667           1452.572318   \n\n   Maize.AboveGround.N        Yield  Maize.Grain.Wt  Maize.Grain.Size  \\\n0            13.909819  7388.289675      738.828968          0.200222   \n1             5.338768  2582.663832      258.266383          0.135590   \n2             1.892050   621.262215       62.126222          0.143312   \n3             6.208011  2584.377106      258.437711          0.259815   \n4            14.129786  7021.758047      702.175805          0.198710   \n\n   Maize.Grain.NumberFunction  Maize.Grain.Total.Wt  Maize.Grain.N  \\\n0                 3666.886974            738.828968       9.436889   \n1                 1273.116007            258.266383       3.380911   \n2                  360.079282             62.126222       0.747150   \n3                  970.082754            258.437711       3.426955   \n4                 3399.770113            702.175805       9.197195   \n\n   Maize.Total.Wt  \n0     1659.159867  \n1      639.322128  \n2      281.385589  \n3      674.502828  \n4     1583.621260  ",
      "text/html": "<div>\n<style scoped>\n    .dataframe tbody tr th:only-of-type {\n        vertical-align: middle;\n    }\n\n    .dataframe tbody tr th {\n        vertical-align: top;\n    }\n\n    .dataframe thead th {\n        text-align: right;\n    }\n</style>\n<table border=\"1\" class=\"dataframe\">\n  <thead>\n    <tr style=\"text-align: right;\">\n      <th></th>\n      <th>Population</th>\n      <th>Date</th>\n      <th>CheckpointID</th>\n      <th>SimulationID</th>\n      <th>Maize.AboveGround.Wt</th>\n      <th>Maize.AboveGround.N</th>\n      <th>Yield</th>\n      <th>Maize.Grain.Wt</th>\n      <th>Maize.Grain.Size</th>\n      <th>Maize.Grain.NumberFunction</th>\n      <th>Maize.Grain.Total.Wt</th>\n      <th>Maize.Grain.N</th>\n      <th>Maize.Total.Wt</th>\n    </tr>\n  </thead>\n  <tbody>\n    <tr>\n      <th>0</th>\n      <td>10</td>\n      <td>1991-12-31</td>\n      <td>1.0</td>\n      <td>2.666667</td>\n      <td>1542.284663</td>\n      <td>13.909819</td>\n      <td>7388.289675</td>\n      <td>738.828968</td>\n      <td>0.200222</td>\n      <td>3666.886974</td>\n      <td>738.828968</td>\n      <td>9.436889</td>\n      <td>1659.159867</td>\n    </tr>\n    <tr>\n      <th>1</th>\n      <td>10</td>\n      <td>1992-12-31</td>\n      <td>1.0</td>\n      <td>2.666667</td>\n      <td>585.478374</td>\n      <td>5.338768</td>\n      <td>2582.663832</td>\n      <td>258.266383</td>\n      <td>0.135590</td>\n      <td>1273.116007</td>\n      <td>258.266383</td>\n      <td>3.380911</td>\n      <td>639.322128</td>\n    </tr>\n    <tr>\n      <th>2</th>\n      <td>10</td>\n      <td>1993-12-31</td>\n      <td>1.0</td>\n      <td>2.666667</td>\n      <td>253.653281</td>\n      <td>1.892050</td>\n      <td>621.262215</td>\n      <td>62.126222</td>\n      <td>0.143312</td>\n      <td>360.079282</td>\n      <td>62.126222</td>\n      <td>0.747150</td>\n      <td>281.385589</td>\n    </tr>\n    <tr>\n      <th>3</th>\n      <td>10</td>\n      <td>1994-12-31</td>\n      <td>1.0</td>\n      <td>2.666667</td>\n      <td>626.201366</td>\n      <td>6.208011</td>\n      <td>2584.377106</td>\n      <td>258.437711</td>\n      <td>0.259815</td>\n      <td>970.082754</td>\n      <td>258.437711</td>\n      <td>3.426955</td>\n      <td>674.502828</td>\n    </tr>\n    <tr>\n      <th>4</th>\n      <td>10</td>\n      <td>1995-12-31</td>\n      <td>1.0</td>\n      <td>2.666667</td>\n      <td>1452.572318</td>\n      <td>14.129786</td>\n      <td>7021.758047</td>\n      <td>702.175805</td>\n      <td>0.198710</td>\n      <td>3399.770113</td>\n      <td>702.175805</td>\n      <td>9.197195</td>\n      <td>1583.621260</td>\n    </tr>\n  </tbody>\n</table>\n</div>"
     },
     "execution_count": 34,
     "metadata": {},
     "output_type": "execute_result"
    }
   ],
   "source": [
    "df['Date'] = pd.to_datetime(df['Clock.Today'])\n",
    "time_groups = ['Population']\n",
    "\n",
    "monthly = (\n",
    "    df.set_index('Date')\n",
    "      .groupby(time_groups)                    # ignored if empty\n",
    "      .resample('YE')\n",
    "      .mean(numeric_only=True)\n",
    "      .reset_index()\n",
    ")\n",
    "\n",
    "monthly.head()\n"
   ]
  },
  {
   "cell_type": "markdown",
   "id": "b31359bb0dc893be",
   "metadata": {
    "collapsed": false
   },
   "source": [
    "from tabulate import tabulate\n",
    "\n",
    "# Pretty printing with Ipython.Display and html\n"
   ]
  },
  {
   "cell_type": "code",
   "execution_count": 35,
   "id": "9b0fbe2c6b667a",
   "metadata": {
    "collapsed": false,
    "ExecuteTime": {
     "end_time": "2025-10-06T01:05:52.043690100Z",
     "start_time": "2025-10-06T01:05:51.911170700Z"
    }
   },
   "outputs": [
    {
     "data": {
      "text/plain": "<IPython.core.display.HTML object>",
      "text/html": "<div style=\"max-width:100%; overflow-x:auto\"><table border=\"1\" class=\"dataframe\">\n  <thead>\n    <tr style=\"text-align: right;\">\n      <th>Population</th>\n      <th>Amount</th>\n      <th>Maize.Grain.Size_count</th>\n      <th>Maize.Grain.Size_mean</th>\n      <th>Maize.Grain.Size_std</th>\n      <th>Maize.Grain.Size_min</th>\n      <th>Maize.Grain.Size_25%</th>\n      <th>Maize.Grain.Size_50%</th>\n      <th>Maize.Grain.Size_75%</th>\n      <th>Maize.Grain.Size_max</th>\n      <th>Yield_count</th>\n      <th>Yield_mean</th>\n      <th>Yield_std</th>\n      <th>Yield_min</th>\n      <th>Yield_25%</th>\n      <th>Yield_50%</th>\n      <th>Yield_75%</th>\n      <th>Yield_max</th>\n    </tr>\n  </thead>\n  <tbody>\n    <tr>\n      <td>10</td>\n      <td>0</td>\n      <td>10.0</td>\n      <td>0.130</td>\n      <td>0.066</td>\n      <td>0.000</td>\n      <td>0.107</td>\n      <td>0.122</td>\n      <td>0.152</td>\n      <td>0.242</td>\n      <td>10.0</td>\n      <td>1625.022</td>\n      <td>1290.409</td>\n      <td>0.000</td>\n      <td>815.033</td>\n      <td>1178.387</td>\n      <td>2433.739</td>\n      <td>4352.845</td>\n    </tr>\n    <tr>\n      <td>10</td>\n      <td>100</td>\n      <td>10.0</td>\n      <td>0.244</td>\n      <td>0.067</td>\n      <td>0.127</td>\n      <td>0.217</td>\n      <td>0.259</td>\n      <td>0.300</td>\n      <td>0.308</td>\n      <td>10.0</td>\n      <td>5192.631</td>\n      <td>3332.632</td>\n      <td>880.617</td>\n      <td>2840.567</td>\n      <td>3649.625</td>\n      <td>8166.521</td>\n      <td>10442.635</td>\n    </tr>\n    <tr>\n      <td>10</td>\n      <td>250</td>\n      <td>10.0</td>\n      <td>0.252</td>\n      <td>0.091</td>\n      <td>0.000</td>\n      <td>0.255</td>\n      <td>0.274</td>\n      <td>0.298</td>\n      <td>0.308</td>\n      <td>10.0</td>\n      <td>6145.238</td>\n      <td>3930.067</td>\n      <td>13.881</td>\n      <td>2745.085</td>\n      <td>6698.639</td>\n      <td>9325.953</td>\n      <td>10839.454</td>\n    </tr>\n    <tr>\n      <td>4</td>\n      <td>0</td>\n      <td>10.0</td>\n      <td>0.151</td>\n      <td>0.051</td>\n      <td>0.097</td>\n      <td>0.107</td>\n      <td>0.143</td>\n      <td>0.189</td>\n      <td>0.246</td>\n      <td>10.0</td>\n      <td>1911.373</td>\n      <td>1277.079</td>\n      <td>510.192</td>\n      <td>967.549</td>\n      <td>1498.601</td>\n      <td>2620.041</td>\n      <td>4462.043</td>\n    </tr>\n    <tr>\n      <td>4</td>\n      <td>100</td>\n      <td>10.0</td>\n      <td>0.282</td>\n      <td>0.027</td>\n      <td>0.220</td>\n      <td>0.269</td>\n      <td>0.297</td>\n      <td>0.299</td>\n      <td>0.301</td>\n      <td>10.0</td>\n      <td>4834.737</td>\n      <td>2024.202</td>\n      <td>870.224</td>\n      <td>3562.199</td>\n      <td>5274.252</td>\n      <td>6572.486</td>\n      <td>6628.080</td>\n    </tr>\n    <tr>\n      <td>4</td>\n      <td>250</td>\n      <td>10.0</td>\n      <td>0.285</td>\n      <td>0.025</td>\n      <td>0.220</td>\n      <td>0.283</td>\n      <td>0.298</td>\n      <td>0.299</td>\n      <td>0.301</td>\n      <td>10.0</td>\n      <td>4754.659</td>\n      <td>2039.569</td>\n      <td>768.706</td>\n      <td>3478.219</td>\n      <td>5048.915</td>\n      <td>6572.486</td>\n      <td>6628.080</td>\n    </tr>\n  </tbody>\n</table></div>"
     },
     "metadata": {},
     "output_type": "display_data"
    }
   ],
   "source": [
    "from tabulate import tabulate\n",
    "\n",
    "\n",
    "data =df.copy()\n",
    "data = data[['Population', 'Amount', 'Maize.Grain.Size', 'Yield']]\n",
    "summary = data.groupby(['Population', 'Amount']).describe()\n",
    "\n",
    "g_flat = summary.reset_index()  # bring group keys back as columns\n",
    "\n",
    "from IPython.display import display, HTML\n",
    "\n",
    "data = df[['Population','Amount','Maize.Grain.Size','Yield']].copy()\n",
    "\n",
    "g = data.groupby(['Population','Amount']).describe()\n",
    "\n",
    "# flatten MultiIndex columns: ('Yield','mean') -> 'Yield_mean'\n",
    "g.columns = ['_'.join(map(str, c)).strip('_') for c in g.columns]\n",
    "g = g.reset_index().round(3)\n",
    "\n",
    "display(HTML(f'<div style=\"max-width:100%; overflow-x:auto\">{g.to_html(index=False)}</div>'))\n"
   ]
  },
  {
   "cell_type": "markdown",
   "id": "67e3062d6436d9a7",
   "metadata": {
    "collapsed": false
   },
   "source": [
    "#  Export summaries to files"
   ]
  },
  {
   "cell_type": "code",
   "execution_count": 36,
   "id": "95949de2d2467674",
   "metadata": {
    "collapsed": false,
    "ExecuteTime": {
     "end_time": "2025-10-06T01:05:52.043690100Z",
     "start_time": "2025-10-06T01:05:51.957583900Z"
    }
   },
   "outputs": [],
   "source": [
    "summary.to_csv(\"summary.csv\")"
   ]
  },
  {
   "cell_type": "markdown",
   "id": "c48ce09721748821",
   "metadata": {
    "collapsed": false
   },
   "source": [
    "\n",
    "## Tips & troubleshooting\n",
    "\n",
    "* If `df` is empty, ensure your APSIM file has a **Report** node and (if needed) call `model.run()` before `get_simulated_output('Report')`.\n",
    "* If you see many `NaN` in summary tables, make sure you selected **numeric** columns (as above).\n",
    "* For **multiple** Report tables, pass the exact one you want (e.g., `'Report'`, `'DailyReport'`) to `get_simulated_output(...)`.\n",
    "* Prefer **explicit grouping** (e.g., `Population`, `Amount`) to avoid mixing different scenarios in the same statistics.\n"
   ]
  },
  {
   "cell_type": "code",
   "execution_count": 37,
   "id": "c4aed4a1d8df8334",
   "metadata": {
    "collapsed": false,
    "ExecuteTime": {
     "end_time": "2025-10-06T01:05:52.378838Z",
     "start_time": "2025-10-06T01:05:51.964714Z"
    }
   },
   "outputs": [
    {
     "name": "stdout",
     "output_type": "stream",
     "text": [
      "Notebook generated by;\n",
      " APSIM version: `APSIM 2025.8.7844.0`\n",
      " apsimNGpy version 0.39.9.15\n"
     ]
    }
   ],
   "source": [
    "from apsimNGpy.core.config import apsim_version\n",
    "from apsimNGpy import version\n",
    "from apsimNGpy.settings import logger\n",
    "print(f\"Notebook generated by;\\n APSIM version: `{apsim_version()}`\\n apsimNGpy version {version.version}\")"
   ]
  },
  {
   "cell_type": "code",
   "execution_count": 37,
   "id": "de617b90c2eb02bc",
   "metadata": {
    "collapsed": false,
    "ExecuteTime": {
     "end_time": "2025-10-06T01:05:52.379847200Z",
     "start_time": "2025-10-06T01:05:52.120749600Z"
    }
   },
   "outputs": [],
   "source": []
  },
  {
   "cell_type": "code",
   "execution_count": 37,
   "id": "e11a3925b17f0852",
   "metadata": {
    "collapsed": false,
    "ExecuteTime": {
     "end_time": "2025-10-06T01:05:52.404872900Z",
     "start_time": "2025-10-06T01:05:52.123022600Z"
    }
   },
   "outputs": [],
   "source": []
  }
 ],
 "metadata": {
  "kernelspec": {
   "display_name": "Python 3",
   "language": "python",
   "name": "python3"
  },
  "language_info": {
   "codemirror_mode": {
    "name": "ipython",
    "version": 2
   },
   "file_extension": ".py",
   "mimetype": "text/x-python",
   "name": "python",
   "nbconvert_exporter": "python",
   "pygments_lexer": "ipython2",
   "version": "2.7.6"
  }
 },
 "nbformat": 4,
 "nbformat_minor": 5
}

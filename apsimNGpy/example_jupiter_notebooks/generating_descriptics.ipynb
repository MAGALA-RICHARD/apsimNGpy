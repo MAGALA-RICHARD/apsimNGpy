{
 "cells": [
  {
   "cell_type": "markdown",
   "source": [
    "# Descriptive statistics on simulated results\n",
    "Below is a compact, Jupyter-friendly tutorial for creating descriptive statistics from apsimNGpy simulation outputs—plus an “alternate print” path using tabulate (remember to install it first)."
   ],
   "metadata": {
    "collapsed": false
   },
   "id": "74191a9f443118e8"
  },
  {
   "cell_type": "markdown",
   "source": [
    "# Prerequisites"
   ],
   "metadata": {
    "collapsed": false
   },
   "id": "eec3175b59177eaf"
  },
  {
   "cell_type": "markdown",
   "source": [
    "# core need libraries\n",
    "pip install apsimNGpy pandas\n",
    "\n",
    "# optional pretty printing (used later)\n",
    "pip install tabulate\n"
   ],
   "metadata": {
    "collapsed": false
   },
   "id": "dc80b3eac0d30da0"
  },
  {
   "cell_type": "markdown",
   "source": [
    "Firs fetch the simulated output as a Pandas data frame\n"
   ],
   "metadata": {
    "collapsed": false
   },
   "id": "d0399ece60ba0b47"
  },
  {
   "cell_type": "code",
   "outputs": [
    {
     "data": {
      "text/plain": "   CheckpointID  SimulationID   Zone          Clock.Today  \\\n0             1             1  Field  1991-05-28 00:00:00   \n1             1             1  Field  1992-04-09 00:00:00   \n2             1             1  Field  1993-03-16 00:00:00   \n3             1             1  Field  1994-03-15 00:00:00   \n4             1             1  Field  1995-04-04 00:00:00   \n\n  Maize.Phenology.CurrentStageName  Maize.AboveGround.Wt  Maize.AboveGround.N  \\\n0                      HarvestRipe           1603.309641            15.578250   \n1                      HarvestRipe            849.734144             9.684291   \n2                      HarvestRipe            182.766781             1.861545   \n3                      HarvestRipe            795.133784             8.344360   \n4                      HarvestRipe           1525.129268            16.481579   \n\n         Yield  Maize.Grain.Wt  Maize.Grain.Size  Maize.Grain.NumberFunction  \\\n0  8469.615813      846.961581          0.278267                 3043.698222   \n1  4674.514452      467.451445          0.273804                 1707.246422   \n2   555.021350       55.502135          0.304067                  182.532674   \n3  3504.274669      350.427467          0.226733                 1545.553056   \n4  7820.119109      782.011911          0.273512                 2859.155304   \n\n   Maize.Grain.Total.Wt  Maize.Grain.N  Maize.Total.Wt source_table  \n0            846.961581      11.178291     1728.427114       Report  \n1            467.451445       6.226327      922.393712       Report  \n2             55.502135       0.752357      204.108770       Report  \n3            350.427467       4.886844      869.242545       Report  \n4            782.011911      10.463854     1665.483701       Report  ",
      "text/html": "<div>\n<style scoped>\n    .dataframe tbody tr th:only-of-type {\n        vertical-align: middle;\n    }\n\n    .dataframe tbody tr th {\n        vertical-align: top;\n    }\n\n    .dataframe thead th {\n        text-align: right;\n    }\n</style>\n<table border=\"1\" class=\"dataframe\">\n  <thead>\n    <tr style=\"text-align: right;\">\n      <th></th>\n      <th>CheckpointID</th>\n      <th>SimulationID</th>\n      <th>Zone</th>\n      <th>Clock.Today</th>\n      <th>Maize.Phenology.CurrentStageName</th>\n      <th>Maize.AboveGround.Wt</th>\n      <th>Maize.AboveGround.N</th>\n      <th>Yield</th>\n      <th>Maize.Grain.Wt</th>\n      <th>Maize.Grain.Size</th>\n      <th>Maize.Grain.NumberFunction</th>\n      <th>Maize.Grain.Total.Wt</th>\n      <th>Maize.Grain.N</th>\n      <th>Maize.Total.Wt</th>\n      <th>source_table</th>\n    </tr>\n  </thead>\n  <tbody>\n    <tr>\n      <th>0</th>\n      <td>1</td>\n      <td>1</td>\n      <td>Field</td>\n      <td>1991-05-28 00:00:00</td>\n      <td>HarvestRipe</td>\n      <td>1603.309641</td>\n      <td>15.578250</td>\n      <td>8469.615813</td>\n      <td>846.961581</td>\n      <td>0.278267</td>\n      <td>3043.698222</td>\n      <td>846.961581</td>\n      <td>11.178291</td>\n      <td>1728.427114</td>\n      <td>Report</td>\n    </tr>\n    <tr>\n      <th>1</th>\n      <td>1</td>\n      <td>1</td>\n      <td>Field</td>\n      <td>1992-04-09 00:00:00</td>\n      <td>HarvestRipe</td>\n      <td>849.734144</td>\n      <td>9.684291</td>\n      <td>4674.514452</td>\n      <td>467.451445</td>\n      <td>0.273804</td>\n      <td>1707.246422</td>\n      <td>467.451445</td>\n      <td>6.226327</td>\n      <td>922.393712</td>\n      <td>Report</td>\n    </tr>\n    <tr>\n      <th>2</th>\n      <td>1</td>\n      <td>1</td>\n      <td>Field</td>\n      <td>1993-03-16 00:00:00</td>\n      <td>HarvestRipe</td>\n      <td>182.766781</td>\n      <td>1.861545</td>\n      <td>555.021350</td>\n      <td>55.502135</td>\n      <td>0.304067</td>\n      <td>182.532674</td>\n      <td>55.502135</td>\n      <td>0.752357</td>\n      <td>204.108770</td>\n      <td>Report</td>\n    </tr>\n    <tr>\n      <th>3</th>\n      <td>1</td>\n      <td>1</td>\n      <td>Field</td>\n      <td>1994-03-15 00:00:00</td>\n      <td>HarvestRipe</td>\n      <td>795.133784</td>\n      <td>8.344360</td>\n      <td>3504.274669</td>\n      <td>350.427467</td>\n      <td>0.226733</td>\n      <td>1545.553056</td>\n      <td>350.427467</td>\n      <td>4.886844</td>\n      <td>869.242545</td>\n      <td>Report</td>\n    </tr>\n    <tr>\n      <th>4</th>\n      <td>1</td>\n      <td>1</td>\n      <td>Field</td>\n      <td>1995-04-04 00:00:00</td>\n      <td>HarvestRipe</td>\n      <td>1525.129268</td>\n      <td>16.481579</td>\n      <td>7820.119109</td>\n      <td>782.011911</td>\n      <td>0.273512</td>\n      <td>2859.155304</td>\n      <td>782.011911</td>\n      <td>10.463854</td>\n      <td>1665.483701</td>\n      <td>Report</td>\n    </tr>\n  </tbody>\n</table>\n</div>"
     },
     "execution_count": 1,
     "metadata": {},
     "output_type": "execute_result"
    }
   ],
   "source": [
    "import pandas as pd\n",
    "from apsimNGpy.core.apsim import ApsimModel\n",
    "\n",
    "# Load a built-in template; omit the .apsimx suffix for templates\n",
    "model = ApsimModel('Maize')\n",
    "\n",
    "# If your file hasn’t been run yet, you may need:\n",
    "model.run()\n",
    "\n",
    "# Pull the “Report” table as a pandas DataFrame\n",
    "df = model.get_simulated_output('Report')  # NOTE: correct quotes\n",
    "\n",
    "# Optional: parse dates if present\n",
    "if 'Date' in df.columns:\n",
    "    df['Date'] = pd.to_datetime(df['Date'], errors='coerce')\n",
    "\n",
    "df.head()\n"
   ],
   "metadata": {
    "collapsed": false,
    "ExecuteTime": {
     "end_time": "2025-10-05T21:33:03.500446700Z",
     "start_time": "2025-10-05T21:32:54.042001Z"
    }
   },
   "id": "da1e43576244ee7c",
   "execution_count": 1
  },
  {
   "cell_type": "markdown",
   "source": [
    "Whole-dataset descriptive statistics"
   ],
   "metadata": {
    "collapsed": false
   },
   "id": "af14ee440cc97d79"
  },
  {
   "cell_type": "code",
   "outputs": [
    {
     "data": {
      "text/plain": "                            count      mean       std  cv_percent      min  \\\nCheckpointID                 10.0     1.000     0.000       0.000    1.000   \nSimulationID                 10.0     1.000     0.000       0.000    1.000   \nMaize.AboveGround.Wt         10.0  1225.100   561.129      45.803  182.767   \nMaize.AboveGround.N          10.0    12.381     5.400      43.611    1.862   \nYield                        10.0  5636.530  2895.961      51.378  555.021   \nMaize.Grain.Wt               10.0   563.653   289.596      51.378   55.502   \nMaize.Grain.Size             10.0     0.285     0.024       8.339    0.227   \nMaize.Grain.NumberFunction   10.0  1986.771   992.188      49.940  182.533   \nMaize.Grain.Total.Wt         10.0   563.653   289.596      51.378   55.502   \nMaize.Grain.N                10.0     7.459     3.754      50.331    0.752   \nMaize.Total.Wt               10.0  1340.837   601.857      44.887  204.109   \n\n                                 q25    median       q75       max  \nCheckpointID                   1.000     1.000     1.000     1.000  \nSimulationID                   1.000     1.000     1.000     1.000  \nMaize.AboveGround.Wt         840.745  1318.364  1587.793  1968.461  \nMaize.AboveGround.N            8.679    13.336    16.461    18.309  \nYield                       3578.665  6033.993  8239.976  8823.516  \nMaize.Grain.Wt               357.866   603.399   823.998   882.352  \nMaize.Grain.Size               0.275     0.295     0.299     0.305  \nMaize.Grain.NumberFunction  1339.924  2123.083  2846.481  3043.698  \nMaize.Grain.Total.Wt         357.866   603.399   823.998   882.352  \nMaize.Grain.N                  4.926     7.989    10.927    11.254  \nMaize.Total.Wt               929.621  1463.579  1719.794  2124.740  ",
      "text/html": "<div>\n<style scoped>\n    .dataframe tbody tr th:only-of-type {\n        vertical-align: middle;\n    }\n\n    .dataframe tbody tr th {\n        vertical-align: top;\n    }\n\n    .dataframe thead th {\n        text-align: right;\n    }\n</style>\n<table border=\"1\" class=\"dataframe\">\n  <thead>\n    <tr style=\"text-align: right;\">\n      <th></th>\n      <th>count</th>\n      <th>mean</th>\n      <th>std</th>\n      <th>cv_percent</th>\n      <th>min</th>\n      <th>q25</th>\n      <th>median</th>\n      <th>q75</th>\n      <th>max</th>\n    </tr>\n  </thead>\n  <tbody>\n    <tr>\n      <th>CheckpointID</th>\n      <td>10.0</td>\n      <td>1.000</td>\n      <td>0.000</td>\n      <td>0.000</td>\n      <td>1.000</td>\n      <td>1.000</td>\n      <td>1.000</td>\n      <td>1.000</td>\n      <td>1.000</td>\n    </tr>\n    <tr>\n      <th>SimulationID</th>\n      <td>10.0</td>\n      <td>1.000</td>\n      <td>0.000</td>\n      <td>0.000</td>\n      <td>1.000</td>\n      <td>1.000</td>\n      <td>1.000</td>\n      <td>1.000</td>\n      <td>1.000</td>\n    </tr>\n    <tr>\n      <th>Maize.AboveGround.Wt</th>\n      <td>10.0</td>\n      <td>1225.100</td>\n      <td>561.129</td>\n      <td>45.803</td>\n      <td>182.767</td>\n      <td>840.745</td>\n      <td>1318.364</td>\n      <td>1587.793</td>\n      <td>1968.461</td>\n    </tr>\n    <tr>\n      <th>Maize.AboveGround.N</th>\n      <td>10.0</td>\n      <td>12.381</td>\n      <td>5.400</td>\n      <td>43.611</td>\n      <td>1.862</td>\n      <td>8.679</td>\n      <td>13.336</td>\n      <td>16.461</td>\n      <td>18.309</td>\n    </tr>\n    <tr>\n      <th>Yield</th>\n      <td>10.0</td>\n      <td>5636.530</td>\n      <td>2895.961</td>\n      <td>51.378</td>\n      <td>555.021</td>\n      <td>3578.665</td>\n      <td>6033.993</td>\n      <td>8239.976</td>\n      <td>8823.516</td>\n    </tr>\n    <tr>\n      <th>Maize.Grain.Wt</th>\n      <td>10.0</td>\n      <td>563.653</td>\n      <td>289.596</td>\n      <td>51.378</td>\n      <td>55.502</td>\n      <td>357.866</td>\n      <td>603.399</td>\n      <td>823.998</td>\n      <td>882.352</td>\n    </tr>\n    <tr>\n      <th>Maize.Grain.Size</th>\n      <td>10.0</td>\n      <td>0.285</td>\n      <td>0.024</td>\n      <td>8.339</td>\n      <td>0.227</td>\n      <td>0.275</td>\n      <td>0.295</td>\n      <td>0.299</td>\n      <td>0.305</td>\n    </tr>\n    <tr>\n      <th>Maize.Grain.NumberFunction</th>\n      <td>10.0</td>\n      <td>1986.771</td>\n      <td>992.188</td>\n      <td>49.940</td>\n      <td>182.533</td>\n      <td>1339.924</td>\n      <td>2123.083</td>\n      <td>2846.481</td>\n      <td>3043.698</td>\n    </tr>\n    <tr>\n      <th>Maize.Grain.Total.Wt</th>\n      <td>10.0</td>\n      <td>563.653</td>\n      <td>289.596</td>\n      <td>51.378</td>\n      <td>55.502</td>\n      <td>357.866</td>\n      <td>603.399</td>\n      <td>823.998</td>\n      <td>882.352</td>\n    </tr>\n    <tr>\n      <th>Maize.Grain.N</th>\n      <td>10.0</td>\n      <td>7.459</td>\n      <td>3.754</td>\n      <td>50.331</td>\n      <td>0.752</td>\n      <td>4.926</td>\n      <td>7.989</td>\n      <td>10.927</td>\n      <td>11.254</td>\n    </tr>\n    <tr>\n      <th>Maize.Total.Wt</th>\n      <td>10.0</td>\n      <td>1340.837</td>\n      <td>601.857</td>\n      <td>44.887</td>\n      <td>204.109</td>\n      <td>929.621</td>\n      <td>1463.579</td>\n      <td>1719.794</td>\n      <td>2124.740</td>\n    </tr>\n  </tbody>\n</table>\n</div>"
     },
     "execution_count": 2,
     "metadata": {},
     "output_type": "execute_result"
    }
   ],
   "source": [
    "# Select numeric columns only\n",
    "num = df.select_dtypes('number')\n",
    "\n",
    "# Basic summary\n",
    "basic = num.agg(['count', 'mean', 'std', 'min', 'median', 'max']).T\n",
    "\n",
    "# Add CV% and IQR\n",
    "q = num.quantile([0.25, 0.75]).T.rename(columns={0.25: 'q25', 0.75: 'q75'})\n",
    "summary = (\n",
    "    basic\n",
    "    .join(q)\n",
    "    .assign(cv_percent=lambda x: (x['std'] / x['mean']) * 100)\n",
    ")[['count','mean','std','cv_percent','min','q25','median','q75','max']]\n",
    "\n",
    "summary.round(3)\n"
   ],
   "metadata": {
    "collapsed": false,
    "ExecuteTime": {
     "end_time": "2025-10-05T21:33:55.055695800Z",
     "start_time": "2025-10-05T21:33:55.033698600Z"
    }
   },
   "id": "8dbcacea37cb990f",
   "execution_count": 2
  },
  {
   "cell_type": "markdown",
   "source": [
    "# Grouped descriptive statistics (e.g., by simulation or treatment)\n",
    "For this example, we need the `ExperimentManager`` Class\n"
   ],
   "metadata": {
    "collapsed": false
   },
   "id": "41bae52932b4817c"
  },
  {
   "cell_type": "code",
   "outputs": [
    {
     "name": "stderr",
     "output_type": "stream",
     "text": [
      "2025-10-05 16:42:33,216 - C:\\Users\\rmagala/apsimNGpy_sim.log - INFO - Notebook generated by;\n",
      " APSIM version: `APSIM 2025.8.7844.0`\n",
      " apsimNGpy version 0.39.9.15\n"
     ]
    }
   ],
   "source": [
    "from apsimNGpy.core.config import apsim_version\n",
    "from apsimNGpy import version\n",
    "from apsimNGpy.settings import logger\n",
    "logger.info(f\"Notebook generated by;\\n APSIM version: `{apsim_version()}`\\n apsimNGpy version {version.version}\")"
   ],
   "metadata": {
    "collapsed": false,
    "ExecuteTime": {
     "end_time": "2025-10-05T21:42:33.224576900Z",
     "start_time": "2025-10-05T21:42:33.216610900Z"
    }
   },
   "id": "c4aed4a1d8df8334",
   "execution_count": 11
  },
  {
   "cell_type": "code",
   "outputs": [],
   "source": [],
   "metadata": {
    "collapsed": false
   },
   "id": "e11a3925b17f0852"
  }
 ],
 "metadata": {
  "kernelspec": {
   "display_name": "Python 3",
   "language": "python",
   "name": "python3"
  },
  "language_info": {
   "codemirror_mode": {
    "name": "ipython",
    "version": 2
   },
   "file_extension": ".py",
   "mimetype": "text/x-python",
   "name": "python",
   "nbconvert_exporter": "python",
   "pygments_lexer": "ipython2",
   "version": "2.7.6"
  }
 },
 "nbformat": 4,
 "nbformat_minor": 5
}

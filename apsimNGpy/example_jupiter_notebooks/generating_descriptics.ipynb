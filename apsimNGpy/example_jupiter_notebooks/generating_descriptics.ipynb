{
 "cells": [
  {
   "cell_type": "markdown",
   "source": [
    "# Descriptive statistics on simulated results\n",
    "Below is a compact, Jupyter-friendly tutorial for creating descriptive statistics from apsimNGpy simulation outputs—plus an “alternate print” path using tabulate (remember to install it first)."
   ],
   "metadata": {
    "collapsed": false
   },
   "id": "74191a9f443118e8"
  },
  {
   "cell_type": "markdown",
   "source": [
    "# Prerequisites"
   ],
   "metadata": {
    "collapsed": false
   },
   "id": "eec3175b59177eaf"
  },
  {
   "cell_type": "markdown",
   "source": [
    "# core need libraries\n",
    "pip install apsimNGpy pandas\n",
    "\n",
    "# optional pretty printing (used later)\n",
    "pip install tabulate\n"
   ],
   "metadata": {
    "collapsed": false
   },
   "id": "dc80b3eac0d30da0"
  },
  {
   "cell_type": "markdown",
   "source": [
    "Firs fetch the simulated output as a Pandas data frame\n"
   ],
   "metadata": {
    "collapsed": false
   },
   "id": "d0399ece60ba0b47"
  },
  {
   "cell_type": "code",
   "outputs": [
    {
     "data": {
      "text/plain": "   CheckpointID  SimulationID   Zone          Clock.Today  \\\n0             1             1  Field  1991-05-28 00:00:00   \n1             1             1  Field  1992-04-09 00:00:00   \n2             1             1  Field  1993-03-16 00:00:00   \n3             1             1  Field  1994-03-15 00:00:00   \n4             1             1  Field  1995-04-04 00:00:00   \n\n  Maize.Phenology.CurrentStageName  Maize.AboveGround.Wt  Maize.AboveGround.N  \\\n0                      HarvestRipe           1603.309641            15.578250   \n1                      HarvestRipe            849.734144             9.684291   \n2                      HarvestRipe            182.766781             1.861545   \n3                      HarvestRipe            795.133784             8.344360   \n4                      HarvestRipe           1525.129268            16.481579   \n\n         Yield  Maize.Grain.Wt  Maize.Grain.Size  Maize.Grain.NumberFunction  \\\n0  8469.615813      846.961581          0.278267                 3043.698222   \n1  4674.514452      467.451445          0.273804                 1707.246422   \n2   555.021350       55.502135          0.304067                  182.532674   \n3  3504.274669      350.427467          0.226733                 1545.553056   \n4  7820.119109      782.011911          0.273512                 2859.155304   \n\n   Maize.Grain.Total.Wt  Maize.Grain.N  Maize.Total.Wt source_table  \n0            846.961581      11.178291     1728.427114       Report  \n1            467.451445       6.226327      922.393712       Report  \n2             55.502135       0.752357      204.108770       Report  \n3            350.427467       4.886844      869.242545       Report  \n4            782.011911      10.463854     1665.483701       Report  ",
      "text/html": "<div>\n<style scoped>\n    .dataframe tbody tr th:only-of-type {\n        vertical-align: middle;\n    }\n\n    .dataframe tbody tr th {\n        vertical-align: top;\n    }\n\n    .dataframe thead th {\n        text-align: right;\n    }\n</style>\n<table border=\"1\" class=\"dataframe\">\n  <thead>\n    <tr style=\"text-align: right;\">\n      <th></th>\n      <th>CheckpointID</th>\n      <th>SimulationID</th>\n      <th>Zone</th>\n      <th>Clock.Today</th>\n      <th>Maize.Phenology.CurrentStageName</th>\n      <th>Maize.AboveGround.Wt</th>\n      <th>Maize.AboveGround.N</th>\n      <th>Yield</th>\n      <th>Maize.Grain.Wt</th>\n      <th>Maize.Grain.Size</th>\n      <th>Maize.Grain.NumberFunction</th>\n      <th>Maize.Grain.Total.Wt</th>\n      <th>Maize.Grain.N</th>\n      <th>Maize.Total.Wt</th>\n      <th>source_table</th>\n    </tr>\n  </thead>\n  <tbody>\n    <tr>\n      <th>0</th>\n      <td>1</td>\n      <td>1</td>\n      <td>Field</td>\n      <td>1991-05-28 00:00:00</td>\n      <td>HarvestRipe</td>\n      <td>1603.309641</td>\n      <td>15.578250</td>\n      <td>8469.615813</td>\n      <td>846.961581</td>\n      <td>0.278267</td>\n      <td>3043.698222</td>\n      <td>846.961581</td>\n      <td>11.178291</td>\n      <td>1728.427114</td>\n      <td>Report</td>\n    </tr>\n    <tr>\n      <th>1</th>\n      <td>1</td>\n      <td>1</td>\n      <td>Field</td>\n      <td>1992-04-09 00:00:00</td>\n      <td>HarvestRipe</td>\n      <td>849.734144</td>\n      <td>9.684291</td>\n      <td>4674.514452</td>\n      <td>467.451445</td>\n      <td>0.273804</td>\n      <td>1707.246422</td>\n      <td>467.451445</td>\n      <td>6.226327</td>\n      <td>922.393712</td>\n      <td>Report</td>\n    </tr>\n    <tr>\n      <th>2</th>\n      <td>1</td>\n      <td>1</td>\n      <td>Field</td>\n      <td>1993-03-16 00:00:00</td>\n      <td>HarvestRipe</td>\n      <td>182.766781</td>\n      <td>1.861545</td>\n      <td>555.021350</td>\n      <td>55.502135</td>\n      <td>0.304067</td>\n      <td>182.532674</td>\n      <td>55.502135</td>\n      <td>0.752357</td>\n      <td>204.108770</td>\n      <td>Report</td>\n    </tr>\n    <tr>\n      <th>3</th>\n      <td>1</td>\n      <td>1</td>\n      <td>Field</td>\n      <td>1994-03-15 00:00:00</td>\n      <td>HarvestRipe</td>\n      <td>795.133784</td>\n      <td>8.344360</td>\n      <td>3504.274669</td>\n      <td>350.427467</td>\n      <td>0.226733</td>\n      <td>1545.553056</td>\n      <td>350.427467</td>\n      <td>4.886844</td>\n      <td>869.242545</td>\n      <td>Report</td>\n    </tr>\n    <tr>\n      <th>4</th>\n      <td>1</td>\n      <td>1</td>\n      <td>Field</td>\n      <td>1995-04-04 00:00:00</td>\n      <td>HarvestRipe</td>\n      <td>1525.129268</td>\n      <td>16.481579</td>\n      <td>7820.119109</td>\n      <td>782.011911</td>\n      <td>0.273512</td>\n      <td>2859.155304</td>\n      <td>782.011911</td>\n      <td>10.463854</td>\n      <td>1665.483701</td>\n      <td>Report</td>\n    </tr>\n  </tbody>\n</table>\n</div>"
     },
     "execution_count": 1,
     "metadata": {},
     "output_type": "execute_result"
    }
   ],
   "source": [
    "import pandas as pd\n",
    "from apsimNGpy.core.apsim import ApsimModel\n",
    "\n",
    "# Load a built-in template; omit the .apsimx suffix for templates\n",
    "model = ApsimModel('Maize')\n",
    "\n",
    "# If your file hasn’t been run yet, you may need:\n",
    "model.run()\n",
    "\n",
    "# Pull the “Report” table as a pandas DataFrame\n",
    "df = model.get_simulated_output('Report')  # NOTE: correct quotes\n",
    "\n",
    "# Optional: parse dates if present\n",
    "if 'Date' in df.columns:\n",
    "    df['Date'] = pd.to_datetime(df['Date'], errors='coerce')\n",
    "\n",
    "df.head()\n"
   ],
   "metadata": {
    "collapsed": false,
    "ExecuteTime": {
     "end_time": "2025-10-05T21:33:03.500446700Z",
     "start_time": "2025-10-05T21:32:54.042001Z"
    }
   },
   "id": "da1e43576244ee7c",
   "execution_count": 1
  },
  {
   "cell_type": "code",
   "outputs": [],
   "source": [],
   "metadata": {
    "collapsed": false
   },
   "id": "f428a4cf1fd7537a"
  }
 ],
 "metadata": {
  "kernelspec": {
   "display_name": "Python 3",
   "language": "python",
   "name": "python3"
  },
  "language_info": {
   "codemirror_mode": {
    "name": "ipython",
    "version": 2
   },
   "file_extension": ".py",
   "mimetype": "text/x-python",
   "name": "python",
   "nbconvert_exporter": "python",
   "pygments_lexer": "ipython2",
   "version": "2.7.6"
  }
 },
 "nbformat": 4,
 "nbformat_minor": 5
}

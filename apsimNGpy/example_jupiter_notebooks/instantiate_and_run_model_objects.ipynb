{
 "cells": [
  {
   "cell_type": "markdown",
   "id": "dd46c81f26bace83",
   "metadata": {
    "collapsed": false
   },
   "source": [
    "# Instantiating APSIMNGpy Model Objects\n",
    "\n",
    "This tutorial shows two ways to instantiate APSIM Next Generation (APSIM NG) models using **apsimNGpy**:\n",
    "\n",
    "1. **Load a built-in template** (e.g., *Maize*)  \n",
    "2. **Open a local `.apsimx` file** (custom or previously saved)\n",
    "\n",
    "> Tested with **apsimNGpy ≥ 0.35**."
   ]
  },
  {
   "cell_type": "markdown",
   "id": "6a5753fa6535c0ae",
   "metadata": {
    "collapsed": false
   },
   "source": [
    "# 1. using the default models\n",
    "These model reside under Examples folder\n"
   ]
  },
  {
   "cell_type": "code",
   "execution_count": 2,
   "id": "ae20b56fc27bd16e",
   "metadata": {
    "collapsed": false,
    "ExecuteTime": {
     "end_time": "2025-10-05T03:21:01.663803400Z",
     "start_time": "2025-10-05T03:20:58.513346300Z"
    }
   },
   "outputs": [],
   "source": [
    "from apsimNGpy.core.apsim import ApsimModel\n",
    "model = ApsimModel('Pinus')"
   ]
  },
  {
   "cell_type": "markdown",
   "source": [
    "loading default simulations while using ApsimModel requires only the name of the default template model without the suffix: .apsimx these templates are stored in ‘../Examples’ folder. Available models at the time of this writing are shown in the list below. The highlighted names are those that can be passed to ApsimModel(model=...) to load the corresponding default model.\n",
    "\n",
    "‘UnderReview/SoilTemperature/SoilTemperature.apsimx’,\n",
    "\n",
    "‘UnderReview/SoilTemperature/SoilTemperatureExample.apsimx’,\n",
    "\n",
    "‘Examples/RedClover.apsimx’,\n",
    "\n",
    "‘Examples/Chickpea.apsimx’,\n",
    "\n",
    "‘Examples/Canola.apsimx’,\n",
    "\n",
    "‘Examples/Pinus.apsimx’,\n",
    "\n",
    "‘Examples/Mungbean.apsimx’,\n",
    "\n",
    "‘Examples/FodderBeet.apsimx’,\n",
    "\n",
    "‘Examples/ControlledEnvironment.apsimx’,\n",
    "\n",
    "‘Examples/Potato.apsimx’,\n",
    "\n",
    "‘Examples/Peanut.apsimx’,\n",
    "\n",
    "‘Examples/Soybean.apsimx’,\n",
    "\n",
    "‘Examples/Stock.apsimx’,\n",
    "\n",
    "‘Examples/SCRUM.apsimx’,\n",
    "\n",
    "‘Examples/Rotation.apsimx’,\n",
    "\n",
    "‘Examples/SWIM.apsimx’,\n",
    "\n",
    "‘Examples/Eucalyptus.apsimx’,\n",
    "\n",
    "‘Examples/Barley.apsimx’,\n",
    "\n",
    "‘Examples/AgPasture.apsimx’,\n",
    "\n",
    "‘Examples/SimpleGrazing.apsimx’,\n",
    "\n",
    "‘Examples/PlantainForage.apsimx’,\n",
    "\n",
    "‘Examples/Sorghum.apsimx’,\n",
    "\n",
    "‘Examples/WhiteClover.apsimx’,\n",
    "\n",
    "‘Examples/BiomassRemovalFromPlant.apsimx’,\n",
    "\n",
    "‘Examples/Chicory.apsimx’,\n",
    "\n",
    "‘Examples/Sugarcane.apsimx’,\n",
    "\n",
    "‘Examples/Maize.apsimx’,\n",
    "\n",
    "‘Examples/EucalyptusRotation.apsimx’,\n",
    "\n",
    "‘Examples/CsvWeather.apsimx’,\n",
    "\n",
    "‘Examples/Oats.apsimx’,\n",
    "\n",
    "‘Examples/CanolaGrazing.apsimx’,\n",
    "\n",
    "‘Examples/Wheat.apsimx’,\n",
    "\n",
    "‘Examples/Grapevine.apsimx’,\n",
    "\n",
    "‘Examples/Slurp.apsimx’,\n",
    "\n",
    "‘Examples/Factorial.apsimx’,\n",
    "\n",
    "‘Examples/OilPalm.apsimx’,\n",
    "\n",
    "‘Examples/Graph.apsimx’,\n",
    "\n",
    "‘Examples/ManagerExamples/RegressionExample.apsimx’,\n",
    "\n",
    "‘Examples/Sensitivity/Morris.apsimx’,\n",
    "\n",
    "‘Examples/Sensitivity/Sobol.apsimx’,\n",
    "\n",
    "‘Examples/Agroforestry/Gliricidia Stripcrop Example.apsimx’,\n",
    "\n",
    "‘Examples/Agroforestry/Tree Belt Example.apsimx’,\n",
    "\n",
    "‘Examples/Agroforestry/Single Tree Example.apsimx’,\n",
    "\n",
    "‘Examples/Tutorials/Memo.apsimx’,\n",
    "\n",
    "‘Examples/Tutorials/ClimateController.apsimx’,\n",
    "\n",
    "‘Examples/Tutorials/ExcelDataExample.apsimx’,\n",
    "\n",
    "‘Examples/Tutorials/EventPublishSubscribe.apsimx’,\n",
    "\n",
    "‘Examples/Tutorials/PredictedObserved.apsimx’,\n",
    "\n",
    "‘Examples/Tutorials/Sensitivity_SobolMethod.apsimx’,\n",
    "\n",
    "‘Examples/Tutorials/SWIM.apsimx’,\n",
    "\n",
    "‘Examples/Tutorials/Report.apsimx’,\n",
    "\n",
    "‘Examples/Tutorials/PropertyUI.apsimx’,\n",
    "\n",
    "‘Examples/Tutorials/Sensitivity_FactorialANOVA.apsimx’,\n",
    "\n",
    "‘Examples/Tutorials/Sensitivity_MorrisMethod.apsimx’,\n",
    "\n",
    "‘Examples/Tutorials/Manager.apsimx’,\n",
    "\n",
    "‘Examples/Tutorials/Lifecycle/lifecycle.apsimx’,\n",
    "\n",
    "‘Examples/CLEM/CLEM_Sensibility_HerdManagement.apsimx’,\n",
    "\n",
    "‘Examples/CLEM/CLEM_Example_Grazing.apsimx’,\n",
    "\n",
    "‘Examples/CLEM/CLEM_Example_Cropping.apsimx’,\n",
    "\n",
    "‘Examples/Optimisation/CroptimizRExample.apsimx’"
   ],
   "metadata": {
    "collapsed": false
   },
   "id": "236410f2e9677ba8"
  },
  {
   "cell_type": "markdown",
   "source": [
    "If `out_path` is not specified, the model will be saved to a randomly generated file path on your computer. The `out_path` parameter accepts both absolute and relative paths. If a relative path is provided, the file will be saved in the current working directory. Please see the example below"
   ],
   "metadata": {
    "collapsed": false
   },
   "id": "52017a520471c576"
  },
  {
   "cell_type": "code",
   "outputs": [
    {
     "data": {
      "text/plain": "'D:\\\\package\\\\apsimNGpy\\\\apsimNGpy\\\\example_jupiter_notebooks\\\\scratch\\\\temp_54eb7e69-a19a-11f0-bc6c-089204ded298_7844.apsimx'"
     },
     "execution_count": 3,
     "metadata": {},
     "output_type": "execute_result"
    }
   ],
   "source": [
    "model  = ApsimModel('Maize')\n",
    "model.path"
   ],
   "metadata": {
    "collapsed": false,
    "ExecuteTime": {
     "end_time": "2025-10-05T03:21:07.220756Z",
     "start_time": "2025-10-05T03:21:07.025043400Z"
    }
   },
   "id": "992328489786aaf4",
   "execution_count": 3
  },
  {
   "cell_type": "markdown",
   "source": [
    "In the example above, because I did not provide an out_path, a default path was randomly generated. I initially intended to make this a temporary file that would be automatically deleted; however, since it is associated with a data file, that is not possible—Python would raise a PermissionError.\n",
    "Also note: these files are stored in the scratch directory each time you instantiate an object. In practice, they can be discarded in about 90% of cases after the run completes. See below what happens, when you provide your own out_path\n"
   ],
   "metadata": {
    "collapsed": false
   },
   "id": "7428e6fddac81aae"
  },
  {
   "cell_type": "code",
   "outputs": [
    {
     "data": {
      "text/plain": "'D:\\\\package\\\\apsimNGpy\\\\apsimNGpy\\\\example_jupiter_notebooks\\\\scratch\\\\maize.apsimx'"
     },
     "execution_count": 5,
     "metadata": {},
     "output_type": "execute_result"
    }
   ],
   "source": [
    "model  = ApsimModel('Maize', out_path='maize.apsimx')\n",
    "model.path"
   ],
   "metadata": {
    "collapsed": false,
    "ExecuteTime": {
     "end_time": "2025-10-05T03:30:58.867378600Z",
     "start_time": "2025-10-05T03:30:58.812551900Z"
    }
   },
   "id": "c92abba649b9ddf7",
   "execution_count": 5
  },
  {
   "cell_type": "code",
   "outputs": [
    {
     "data": {
      "text/plain": "'D:\\\\package\\\\apsimNGpy\\\\apsimNGpy\\\\example_jupiter_notebooks\\\\maize.apsimx'"
     },
     "execution_count": 7,
     "metadata": {},
     "output_type": "execute_result"
    }
   ],
   "source": [
    "from pathlib import Path \n",
    "model  = ApsimModel('Maize', out_path=Path('maize.apsimx').resolve())\n",
    "model.path"
   ],
   "metadata": {
    "collapsed": false,
    "ExecuteTime": {
     "end_time": "2025-10-05T03:31:56.392719700Z",
     "start_time": "2025-10-05T03:31:56.283450600Z"
    }
   },
   "id": "86f205fc8eca72b8",
   "execution_count": 7
  },
  {
   "cell_type": "markdown",
   "source": [
    "In the first example, because no absolute path was provided, the model was written to the scratch directory. By contrast, supplying an absolute path causes the model to be saved at that specified location, and that path is preserved."
   ],
   "metadata": {
    "collapsed": false
   },
   "id": "4b109b4fedc62fd7"
  },
  {
   "cell_type": "markdown",
   "source": [
    "# 2. Option 2 is to load the model from file.\n",
    "In the example below, I show you how to load from a local disk, since we have already saved one, am going to use that path  from the above example"
   ],
   "metadata": {
    "collapsed": false
   },
   "id": "c65bd9f0f5ce3232"
  },
  {
   "cell_type": "code",
   "outputs": [],
   "source": [
    "model = ApsimModel('./maize.apsimx')"
   ],
   "metadata": {
    "collapsed": false,
    "ExecuteTime": {
     "end_time": "2025-10-05T03:37:31.018573800Z",
     "start_time": "2025-10-05T03:37:30.916559200Z"
    }
   },
   "id": "e9a088199859da90",
   "execution_count": 8
  },
  {
   "cell_type": "markdown",
   "source": [
    "As a final note, when the .apsimx suffix is omitted, ApsimModel interprets the model argument as a built-in template. When the suffix is present, it interprets it as a user-provided file path."
   ],
   "metadata": {
    "collapsed": false
   },
   "id": "783f1c903a05bd18"
  },
  {
   "cell_type": "markdown",
   "source": [
    "# Executing the model\n",
    "When we execute or run the model, we want to return simulated output based on the simulated input parameters. In apsimNGpy, this is achieved by run(). This method is present on ApsimModel, and ExperimentManager classes, but it is an abstract method PlotManager class, to enforce uniformity across. In the example, below, I first show you ran_ok attributes how it is a useful to signal whether the model ahs been executed or not, in some cases during editing, this is set to False. "
   ],
   "metadata": {
    "collapsed": false
   },
   "id": "c9b43192e9901268"
  },
  {
   "cell_type": "code",
   "outputs": [
    {
     "data": {
      "text/plain": "False"
     },
     "execution_count": 9,
     "metadata": {},
     "output_type": "execute_result"
    }
   ],
   "source": [
    "model.ran_ok"
   ],
   "metadata": {
    "collapsed": false,
    "ExecuteTime": {
     "end_time": "2025-10-05T03:48:55.835401400Z",
     "start_time": "2025-10-05T03:48:55.819952200Z"
    }
   },
   "id": "5e495f45d8ad55fd",
   "execution_count": 9
  },
  {
   "cell_type": "code",
   "outputs": [
    {
     "data": {
      "text/plain": "<apsimNGpy.core.apsim.ApsimModel at 0x22edbe982b0>"
     },
     "execution_count": 10,
     "metadata": {},
     "output_type": "execute_result"
    }
   ],
   "source": [
    "model.run()"
   ],
   "metadata": {
    "collapsed": false,
    "ExecuteTime": {
     "end_time": "2025-10-05T03:49:10.071094400Z",
     "start_time": "2025-10-05T03:49:04.830121400Z"
    }
   },
   "id": "71df3629beec7c5e",
   "execution_count": 10
  },
  {
   "cell_type": "markdown",
   "source": [
    "Check  if it was successful\n"
   ],
   "metadata": {
    "collapsed": false
   },
   "id": "c9201b2acc2d817a"
  },
  {
   "cell_type": "code",
   "outputs": [
    {
     "data": {
      "text/plain": "True"
     },
     "execution_count": 11,
     "metadata": {},
     "output_type": "execute_result"
    }
   ],
   "source": [
    "model.ran_ok"
   ],
   "metadata": {
    "collapsed": false,
    "ExecuteTime": {
     "end_time": "2025-10-05T03:49:33.578757100Z",
     "start_time": "2025-10-05T03:49:33.560582Z"
    }
   },
   "id": "78e44d2ba8934693",
   "execution_count": 11
  },
  {
   "cell_type": "markdown",
   "source": [
    "Yay! It was successful, now we are ready to get results. "
   ],
   "metadata": {
    "collapsed": false
   },
   "id": "4136dbd16ffafff6"
  },
  {
   "cell_type": "code",
   "outputs": [],
   "source": [
    "df = model.results\n",
    "# or\n",
    "df =model.get_simulated_output('Report')"
   ],
   "metadata": {
    "collapsed": false,
    "ExecuteTime": {
     "end_time": "2025-10-05T03:50:32.966111400Z",
     "start_time": "2025-10-05T03:50:32.780043200Z"
    }
   },
   "id": "5b3a8d88b8c09b81",
   "execution_count": 12
  },
  {
   "cell_type": "code",
   "outputs": [
    {
     "name": "stdout",
     "output_type": "stream",
     "text": [
      "<class 'pandas.core.frame.DataFrame'>\n",
      "RangeIndex: 10 entries, 0 to 9\n",
      "Data columns (total 15 columns):\n",
      " #   Column                            Non-Null Count  Dtype  \n",
      "---  ------                            --------------  -----  \n",
      " 0   CheckpointID                      10 non-null     int64  \n",
      " 1   SimulationID                      10 non-null     int64  \n",
      " 2   Zone                              10 non-null     object \n",
      " 3   Clock.Today                       10 non-null     object \n",
      " 4   Maize.Phenology.CurrentStageName  10 non-null     object \n",
      " 5   Maize.AboveGround.Wt              10 non-null     float64\n",
      " 6   Maize.AboveGround.N               10 non-null     float64\n",
      " 7   Yield                             10 non-null     float64\n",
      " 8   Maize.Grain.Wt                    10 non-null     float64\n",
      " 9   Maize.Grain.Size                  10 non-null     float64\n",
      " 10  Maize.Grain.NumberFunction        10 non-null     float64\n",
      " 11  Maize.Grain.Total.Wt              10 non-null     float64\n",
      " 12  Maize.Grain.N                     10 non-null     float64\n",
      " 13  Maize.Total.Wt                    10 non-null     float64\n",
      " 14  source_table                      10 non-null     object \n",
      "dtypes: float64(9), int64(2), object(4)\n",
      "memory usage: 1.3+ KB\n"
     ]
    }
   ],
   "source": [
    "df.info()"
   ],
   "metadata": {
    "collapsed": false,
    "ExecuteTime": {
     "end_time": "2025-10-05T03:50:44.304978600Z",
     "start_time": "2025-10-05T03:50:44.279428700Z"
    }
   },
   "id": "ea73b01dc8133811",
   "execution_count": 14
  },
  {
   "cell_type": "markdown",
   "source": [
    "“In the example above, the first line returns rows from all report tables in the simulation and concatenates them row-wise (axis=0). This is generally not advisable, because differing schemas will introduce NaN values and create confusion—unless there’s only a single report table.”\n",
    "\n",
    "Safer usage\n",
    "“Specify the table explicitly to avoid unintended concatenation, e.g. `get_simulated_outputb( report_name='Report')`"
   ],
   "metadata": {
    "collapsed": false
   },
   "id": "42ab4e5a27f43ce4"
  },
  {
   "cell_type": "markdown",
   "source": [
    "the last thing we want to do is to save the model"
   ],
   "metadata": {
    "collapsed": false
   },
   "id": "d61f974baabd8f18"
  },
  {
   "cell_type": "code",
   "outputs": [
    {
     "data": {
      "text/plain": "<apsimNGpy.core.apsim.ApsimModel at 0x22edbe982b0>"
     },
     "execution_count": 15,
     "metadata": {},
     "output_type": "execute_result"
    }
   ],
   "source": [
    "model.save('maize.apsimx')"
   ],
   "metadata": {
    "collapsed": false,
    "ExecuteTime": {
     "end_time": "2025-10-05T03:54:46.935068500Z",
     "start_time": "2025-10-05T03:54:46.776675200Z"
    }
   },
   "id": "8adf647269dcb1e1",
   "execution_count": 15
  },
  {
   "cell_type": "code",
   "outputs": [],
   "source": [],
   "metadata": {
    "collapsed": false
   },
   "id": "c3017ff2549c0878"
  }
 ],
 "metadata": {
  "kernelspec": {
   "display_name": "Python 3",
   "language": "python",
   "name": "python3"
  },
  "language_info": {
   "codemirror_mode": {
    "name": "ipython",
    "version": 2
   },
   "file_extension": ".py",
   "mimetype": "text/x-python",
   "name": "python",
   "nbconvert_exporter": "python",
   "pygments_lexer": "ipython2",
   "version": "2.7.6"
  }
 },
 "nbformat": 4,
 "nbformat_minor": 5
}

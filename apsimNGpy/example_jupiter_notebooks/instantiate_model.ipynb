{
 "cells": [
  {
   "cell_type": "markdown",
   "id": "dd46c81f26bace83",
   "metadata": {
    "collapsed": false
   },
   "source": [
    "# Instantiating APSIMNGpy Model Objects\n",
    "\n",
    "This tutorial shows two ways to instantiate APSIM Next Generation (APSIM NG) models using **apsimNGpy**:\n",
    "\n",
    "1. **Load a built-in template** (e.g., *Maize*)  \n",
    "2. **Open a local `.apsimx` file** (custom or previously saved)\n",
    "\n",
    "> Tested with **apsimNGpy ≥ 0.35**."
   ]
  },
  {
   "cell_type": "markdown",
   "id": "6a5753fa6535c0ae",
   "metadata": {
    "collapsed": false
   },
   "source": [
    "# 1. using the default models\n",
    "These model reside under Examples folder\n"
   ]
  },
  {
   "cell_type": "code",
   "execution_count": 16,
   "id": "ae20b56fc27bd16e",
   "metadata": {
    "ExecuteTime": {
     "end_time": "2025-10-05T03:55:32.432095500Z",
     "start_time": "2025-10-05T03:55:32.329395300Z"
    },
    "collapsed": false
   },
   "outputs": [],
   "source": [
    "from apsimNGpy.core.apsim import ApsimModel\n",
    "model = ApsimModel('Pinus')"
   ]
  },
  {
   "cell_type": "markdown",
   "id": "236410f2e9677ba8",
   "metadata": {
    "collapsed": false
   },
   "source": [
    "loading default simulations while using ApsimModel requires only the name of the default template model without the suffix: .apsimx these templates are stored in ‘../Examples’ folder. Available models at the time of this writing are shown in the list below. The highlighted names are those that can be passed to ApsimModel(model=...) to load the corresponding default model.\n",
    "\n",
    "‘UnderReview/SoilTemperature/SoilTemperature.apsimx’,\n",
    "\n",
    "‘UnderReview/SoilTemperature/SoilTemperatureExample.apsimx’,\n",
    "\n",
    "‘Examples/RedClover.apsimx’,\n",
    "\n",
    "‘Examples/Chickpea.apsimx’,\n",
    "\n",
    "‘Examples/Canola.apsimx’,\n",
    "\n",
    "‘Examples/Pinus.apsimx’,\n",
    "\n",
    "‘Examples/Mungbean.apsimx’,\n",
    "\n",
    "‘Examples/FodderBeet.apsimx’,\n",
    "\n",
    "‘Examples/ControlledEnvironment.apsimx’,\n",
    "\n",
    "‘Examples/Potato.apsimx’,\n",
    "\n",
    "‘Examples/Peanut.apsimx’,\n",
    "\n",
    "‘Examples/Soybean.apsimx’,\n",
    "\n",
    "‘Examples/Stock.apsimx’,\n",
    "\n",
    "‘Examples/SCRUM.apsimx’,\n",
    "\n",
    "‘Examples/Rotation.apsimx’,\n",
    "\n",
    "‘Examples/SWIM.apsimx’,\n",
    "\n",
    "‘Examples/Eucalyptus.apsimx’,\n",
    "\n",
    "‘Examples/Barley.apsimx’,\n",
    "\n",
    "‘Examples/AgPasture.apsimx’,\n",
    "\n",
    "‘Examples/SimpleGrazing.apsimx’,\n",
    "\n",
    "‘Examples/PlantainForage.apsimx’,\n",
    "\n",
    "‘Examples/Sorghum.apsimx’,\n",
    "\n",
    "‘Examples/WhiteClover.apsimx’,\n",
    "\n",
    "‘Examples/BiomassRemovalFromPlant.apsimx’,\n",
    "\n",
    "‘Examples/Chicory.apsimx’,\n",
    "\n",
    "‘Examples/Sugarcane.apsimx’,\n",
    "\n",
    "‘Examples/Maize.apsimx’,\n",
    "\n",
    "‘Examples/EucalyptusRotation.apsimx’,\n",
    "\n",
    "‘Examples/CsvWeather.apsimx’,\n",
    "\n",
    "‘Examples/Oats.apsimx’,\n",
    "\n",
    "‘Examples/CanolaGrazing.apsimx’,\n",
    "\n",
    "‘Examples/Wheat.apsimx’,\n",
    "\n",
    "‘Examples/Grapevine.apsimx’,\n",
    "\n",
    "‘Examples/Slurp.apsimx’,\n",
    "\n",
    "‘Examples/Factorial.apsimx’,\n",
    "\n",
    "‘Examples/OilPalm.apsimx’,\n",
    "\n",
    "‘Examples/Graph.apsimx’,\n",
    "\n",
    "‘Examples/ManagerExamples/RegressionExample.apsimx’,\n",
    "\n",
    "‘Examples/Sensitivity/Morris.apsimx’,\n",
    "\n",
    "‘Examples/Sensitivity/Sobol.apsimx’,\n",
    "\n",
    "‘Examples/Agroforestry/Gliricidia Stripcrop Example.apsimx’,\n",
    "\n",
    "‘Examples/Agroforestry/Tree Belt Example.apsimx’,\n",
    "\n",
    "‘Examples/Agroforestry/Single Tree Example.apsimx’,\n",
    "\n",
    "‘Examples/Tutorials/Memo.apsimx’,\n",
    "\n",
    "‘Examples/Tutorials/ClimateController.apsimx’,\n",
    "\n",
    "‘Examples/Tutorials/ExcelDataExample.apsimx’,\n",
    "\n",
    "‘Examples/Tutorials/EventPublishSubscribe.apsimx’,\n",
    "\n",
    "‘Examples/Tutorials/PredictedObserved.apsimx’,\n",
    "\n",
    "‘Examples/Tutorials/Sensitivity_SobolMethod.apsimx’,\n",
    "\n",
    "‘Examples/Tutorials/SWIM.apsimx’,\n",
    "\n",
    "‘Examples/Tutorials/Report.apsimx’,\n",
    "\n",
    "‘Examples/Tutorials/PropertyUI.apsimx’,\n",
    "\n",
    "‘Examples/Tutorials/Sensitivity_FactorialANOVA.apsimx’,\n",
    "\n",
    "‘Examples/Tutorials/Sensitivity_MorrisMethod.apsimx’,\n",
    "\n",
    "‘Examples/Tutorials/Manager.apsimx’,\n",
    "\n",
    "‘Examples/Tutorials/Lifecycle/lifecycle.apsimx’,\n",
    "\n",
    "‘Examples/CLEM/CLEM_Sensibility_HerdManagement.apsimx’,\n",
    "\n",
    "‘Examples/CLEM/CLEM_Example_Grazing.apsimx’,\n",
    "\n",
    "‘Examples/CLEM/CLEM_Example_Cropping.apsimx’,\n",
    "\n",
    "‘Examples/Optimisation/CroptimizRExample.apsimx’"
   ]
  },
  {
   "cell_type": "markdown",
   "id": "52017a520471c576",
   "metadata": {
    "collapsed": false
   },
   "source": [
    "If `out_path` is not specified, the model will be saved to a randomly generated file path on your computer. The `out_path` parameter accepts both absolute and relative paths. If a relative path is provided, the file will be saved in the current working directory. Please see the example below"
   ]
  },
  {
   "cell_type": "code",
   "execution_count": 17,
   "id": "992328489786aaf4",
   "metadata": {
    "ExecuteTime": {
     "end_time": "2025-10-05T03:55:32.503526400Z",
     "start_time": "2025-10-05T03:55:32.432095500Z"
    },
    "collapsed": false
   },
   "outputs": [
    {
     "data": {
      "text/plain": [
       "'D:\\\\package\\\\apsimNGpy\\\\apsimNGpy\\\\example_jupiter_notebooks\\\\scratch\\\\temp_23ffc0bb-a19f-11f0-ade5-089204ded298_7844.apsimx'"
      ]
     },
     "execution_count": 17,
     "metadata": {},
     "output_type": "execute_result"
    }
   ],
   "source": [
    "model  = ApsimModel('Maize')\n",
    "model.path"
   ]
  },
  {
   "cell_type": "markdown",
   "id": "7428e6fddac81aae",
   "metadata": {
    "collapsed": false
   },
   "source": [
    "In the example above, because I did not provide an out_path, a default path was randomly generated. I initially intended to make this a temporary file that would be automatically deleted; however, since it is associated with a data file, that is not possible—Python would raise a PermissionError.\n",
    "Also note: these files are stored in the scratch directory each time you instantiate an object. In practice, they can be discarded in about 90% of cases after the run completes. See below what happens, when you provide your own out_path\n"
   ]
  },
  {
   "cell_type": "code",
   "execution_count": 18,
   "id": "c92abba649b9ddf7",
   "metadata": {
    "ExecuteTime": {
     "end_time": "2025-10-05T03:55:32.551174500Z",
     "start_time": "2025-10-05T03:55:32.496634300Z"
    },
    "collapsed": false
   },
   "outputs": [
    {
     "data": {
      "text/plain": [
       "'D:\\\\package\\\\apsimNGpy\\\\apsimNGpy\\\\example_jupiter_notebooks\\\\scratch\\\\maize.apsimx'"
      ]
     },
     "execution_count": 18,
     "metadata": {},
     "output_type": "execute_result"
    }
   ],
   "source": [
    "model  = ApsimModel('Maize', out_path='maize.apsimx')\n",
    "model.path"
   ]
  },
  {
   "cell_type": "code",
   "execution_count": 19,
   "id": "86f205fc8eca72b8",
   "metadata": {
    "ExecuteTime": {
     "end_time": "2025-10-05T03:55:32.583132100Z",
     "start_time": "2025-10-05T03:55:32.536906900Z"
    },
    "collapsed": false
   },
   "outputs": [
    {
     "data": {
      "text/plain": [
       "'D:\\\\package\\\\apsimNGpy\\\\apsimNGpy\\\\example_jupiter_notebooks\\\\maize.apsimx'"
      ]
     },
     "execution_count": 19,
     "metadata": {},
     "output_type": "execute_result"
    }
   ],
   "source": [
    "from pathlib import Path \n",
    "model  = ApsimModel('Maize', out_path=Path('maize.apsimx').resolve())\n",
    "model.path"
   ]
  },
  {
   "cell_type": "markdown",
   "id": "4b109b4fedc62fd7",
   "metadata": {
    "collapsed": false
   },
   "source": [
    "In the first example, because no absolute path was provided, the model was written to the scratch directory. By contrast, supplying an absolute path causes the model to be saved at that specified location, and that path is preserved."
   ]
  },
  {
   "cell_type": "markdown",
   "id": "c65bd9f0f5ce3232",
   "metadata": {
    "collapsed": false
   },
   "source": [
    "# 2. Option 2 is to load the model from file.\n",
    "In the example below, I show you how to load from a local disk, since we have already saved one, am going to use that path  from the above example"
   ]
  },
  {
   "cell_type": "code",
   "execution_count": 20,
   "id": "e9a088199859da90",
   "metadata": {
    "ExecuteTime": {
     "end_time": "2025-10-05T03:55:32.614880300Z",
     "start_time": "2025-10-05T03:55:32.568249Z"
    },
    "collapsed": false
   },
   "outputs": [],
   "source": [
    "model = ApsimModel('./maize.apsimx')"
   ]
  },
  {
   "cell_type": "markdown",
   "id": "783f1c903a05bd18",
   "metadata": {
    "collapsed": false
   },
   "source": [
    "As a final note, when the .apsimx suffix is omitted, ApsimModel interprets the model argument as a built-in template. When the suffix is present, it interprets it as a user-provided file path."
   ]
  },
  {
   "cell_type": "markdown",
   "id": "c9b43192e9901268",
   "metadata": {
    "collapsed": false
   },
   "source": [
    "# Executing the model\n",
    "When we execute or run the model, we want to return simulated output based on the simulated input parameters. In apsimNGpy, this is achieved by run(). This method is present on ApsimModel, and ExperimentManager classes, but it is an abstract method PlotManager class, to enforce uniformity across. In the example, below, I first show you ran_ok attributes how it is a useful to signal whether the model ahs been executed or not, in some cases during editing, this is set to False. "
   ]
  },
  {
   "cell_type": "code",
   "execution_count": 21,
   "id": "5e495f45d8ad55fd",
   "metadata": {
    "ExecuteTime": {
     "end_time": "2025-10-05T03:55:32.615881900Z",
     "start_time": "2025-10-05T03:55:32.610231500Z"
    },
    "collapsed": false
   },
   "outputs": [
    {
     "data": {
      "text/plain": [
       "False"
      ]
     },
     "execution_count": 21,
     "metadata": {},
     "output_type": "execute_result"
    }
   ],
   "source": [
    "model.ran_ok"
   ]
  },
  {
   "cell_type": "code",
   "execution_count": 22,
   "id": "71df3629beec7c5e",
   "metadata": {
    "ExecuteTime": {
     "end_time": "2025-10-05T03:55:37.709096400Z",
     "start_time": "2025-10-05T03:55:32.615881900Z"
    },
    "collapsed": false
   },
   "outputs": [
    {
     "data": {
      "text/plain": [
       "<apsimNGpy.core.apsim.ApsimModel at 0x22edbe99ba0>"
      ]
     },
     "execution_count": 22,
     "metadata": {},
     "output_type": "execute_result"
    }
   ],
   "source": [
    "model.run()"
   ]
  },
  {
   "cell_type": "markdown",
   "id": "c9201b2acc2d817a",
   "metadata": {
    "collapsed": false
   },
   "source": [
    "Check  if it was successful\n"
   ]
  },
  {
   "cell_type": "code",
   "execution_count": 23,
   "id": "78e44d2ba8934693",
   "metadata": {
    "ExecuteTime": {
     "end_time": "2025-10-05T03:55:37.710097900Z",
     "start_time": "2025-10-05T03:55:37.698671800Z"
    },
    "collapsed": false
   },
   "outputs": [
    {
     "data": {
      "text/plain": [
       "True"
      ]
     },
     "execution_count": 23,
     "metadata": {},
     "output_type": "execute_result"
    }
   ],
   "source": [
    "model.ran_ok"
   ]
  },
  {
   "cell_type": "markdown",
   "id": "4136dbd16ffafff6",
   "metadata": {
    "collapsed": false
   },
   "source": [
    "Yay! It was successful, now we are ready to get results. "
   ]
  },
  {
   "cell_type": "code",
   "execution_count": 24,
   "id": "5b3a8d88b8c09b81",
   "metadata": {
    "ExecuteTime": {
     "end_time": "2025-10-05T03:55:37.758210400Z",
     "start_time": "2025-10-05T03:55:37.702423Z"
    },
    "collapsed": false
   },
   "outputs": [],
   "source": [
    "df = model.results\n",
    "# or\n",
    "df =model.get_simulated_output('Report')"
   ]
  },
  {
   "cell_type": "code",
   "execution_count": 25,
   "id": "ea73b01dc8133811",
   "metadata": {
    "ExecuteTime": {
     "end_time": "2025-10-05T03:55:37.759239700Z",
     "start_time": "2025-10-05T03:55:37.733559900Z"
    },
    "collapsed": false
   },
   "outputs": [
    {
     "name": "stdout",
     "output_type": "stream",
     "text": [
      "<class 'pandas.core.frame.DataFrame'>\n",
      "RangeIndex: 10 entries, 0 to 9\n",
      "Data columns (total 15 columns):\n",
      " #   Column                            Non-Null Count  Dtype  \n",
      "---  ------                            --------------  -----  \n",
      " 0   CheckpointID                      10 non-null     int64  \n",
      " 1   SimulationID                      10 non-null     int64  \n",
      " 2   Zone                              10 non-null     object \n",
      " 3   Clock.Today                       10 non-null     object \n",
      " 4   Maize.Phenology.CurrentStageName  10 non-null     object \n",
      " 5   Maize.AboveGround.Wt              10 non-null     float64\n",
      " 6   Maize.AboveGround.N               10 non-null     float64\n",
      " 7   Yield                             10 non-null     float64\n",
      " 8   Maize.Grain.Wt                    10 non-null     float64\n",
      " 9   Maize.Grain.Size                  10 non-null     float64\n",
      " 10  Maize.Grain.NumberFunction        10 non-null     float64\n",
      " 11  Maize.Grain.Total.Wt              10 non-null     float64\n",
      " 12  Maize.Grain.N                     10 non-null     float64\n",
      " 13  Maize.Total.Wt                    10 non-null     float64\n",
      " 14  source_table                      10 non-null     object \n",
      "dtypes: float64(9), int64(2), object(4)\n",
      "memory usage: 1.3+ KB\n"
     ]
    }
   ],
   "source": [
    "df.info()"
   ]
  },
  {
   "cell_type": "markdown",
   "id": "42ab4e5a27f43ce4",
   "metadata": {
    "collapsed": false
   },
   "source": [
    "“In the example above, the first line returns rows from all report tables in the simulation and concatenates them row-wise (axis=0). This is generally not advisable, because differing schemas will introduce NaN values and create confusion—unless there’s only a single report table.”\n",
    "\n",
    "Safer usage\n",
    "“Specify the table explicitly to avoid unintended concatenation, e.g. `get_simulated_outputb( report_name='Report')`"
   ]
  },
  {
   "cell_type": "markdown",
   "id": "d61f974baabd8f18",
   "metadata": {
    "collapsed": false
   },
   "source": [
    "the last thing we want to do is to save the model"
   ]
  },
  {
   "cell_type": "code",
   "execution_count": 26,
   "id": "8adf647269dcb1e1",
   "metadata": {
    "ExecuteTime": {
     "end_time": "2025-10-05T03:55:37.844199500Z",
     "start_time": "2025-10-05T03:55:37.739092100Z"
    },
    "collapsed": false
   },
   "outputs": [
    {
     "data": {
      "text/plain": [
       "<apsimNGpy.core.apsim.ApsimModel at 0x22edbe99ba0>"
      ]
     },
     "execution_count": 26,
     "metadata": {},
     "output_type": "execute_result"
    }
   ],
   "source": [
    "model.save('maize.apsimx')"
   ]
  },
  {
   "cell_type": "code",
   "execution_count": 27,
   "id": "c3017ff2549c0878",
   "metadata": {
    "ExecuteTime": {
     "end_time": "2025-10-05T03:56:12.359794Z",
     "start_time": "2025-10-05T03:56:12.347978900Z"
    },
    "collapsed": false
   },
   "outputs": [
    {
     "data": {
      "text/plain": [
       "False"
      ]
     },
     "execution_count": 27,
     "metadata": {},
     "output_type": "execute_result"
    }
   ],
   "source": [
    "model.ran_ok"
   ]
  },
  {
   "cell_type": "code",
   "execution_count": 1,
   "id": "54c3b151fc1a6b63",
   "metadata": {
    "collapsed": false,
    "ExecuteTime": {
     "end_time": "2025-10-05T22:32:08.046604200Z",
     "start_time": "2025-10-05T22:32:07.908101900Z"
    }
   },
   "outputs": [
    {
     "name": "stdout",
     "output_type": "stream",
     "text": [
      "Notebook generated by;\n",
      " APSIM version: `APSIM 2025.8.7844.0`\n",
      " apsimNGpy version 0.39.9.15\n"
     ]
    }
   ],
   "source": [
    "from apsimNGpy.core.config import apsim_version\n",
    "from apsimNGpy import version\n",
    "from apsimNGpy.settings import logger\n",
    "print(f\"Notebook generated by;\\n APSIM version: `{apsim_version()}`\\n apsimNGpy version {version.version}\")"
   ]
  },
  {
   "cell_type": "code",
   "outputs": [],
   "source": [],
   "metadata": {
    "collapsed": false
   },
   "id": "ba45b5cc4cb01ad5"
  }
 ],
 "metadata": {
  "kernelspec": {
   "display_name": "Python 3",
   "language": "python",
   "name": "python3"
  },
  "language_info": {
   "codemirror_mode": {
    "name": "ipython",
    "version": 2
   },
   "file_extension": ".py",
   "mimetype": "text/x-python",
   "name": "python",
   "nbconvert_exporter": "python",
   "pygments_lexer": "ipython2",
   "version": "2.7.6"
  }
 },
 "nbformat": 4,
 "nbformat_minor": 5
}

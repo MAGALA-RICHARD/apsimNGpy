{
 "cells": [
  {
   "cell_type": "markdown",
   "id": "fbe4ae373a0e4872",
   "metadata": {
    "collapsed": false
   },
   "source": [
    "# Method chaining"
   ]
  },
  {
   "cell_type": "markdown",
   "id": "909fa0cc8fff7759",
   "metadata": {
    "collapsed": false
   },
   "source": [
    "# Why method chaining?\n",
    "\n",
    "Chaining lets you instantiate, configure, run, edit or apply any method all in one readable pipeline.\n",
    "In apsimNGpy, most builder methods return self (so you can keep chaining), while terminal methods like ``get_simulated_output`` return results (e.g., a DataFrame) and end the chain. See the example below."
   ]
  },
  {
   "cell_type": "code",
   "execution_count": 7,
   "id": "3d355a67a73d0b6f",
   "metadata": {
    "ExecuteTime": {
     "end_time": "2025-10-05T21:22:28.810295300Z",
     "start_time": "2025-10-05T21:22:23.656789400Z"
    },
    "collapsed": false
   },
   "outputs": [
    {
     "data": {
      "text/plain": [
       "CheckpointID                     1.000000\n",
       "SimulationID                     1.000000\n",
       "Maize.AboveGround.Wt          1225.099950\n",
       "Maize.AboveGround.N             12.381196\n",
       "Yield                         5636.529504\n",
       "Maize.Grain.Wt                 563.652950\n",
       "Maize.Grain.Size                 0.284941\n",
       "Maize.Grain.NumberFunction    1986.770519\n",
       "Maize.Grain.Total.Wt           563.652950\n",
       "Maize.Grain.N                    7.459296\n",
       "Maize.Total.Wt                1340.837427\n",
       "dtype: float64"
      ]
     },
     "execution_count": 7,
     "metadata": {},
     "output_type": "execute_result"
    }
   ],
   "source": [
    "from apsimNGpy.core.apsim import ApsimModel\n",
    "df =ApsimModel('Maize').run().get_simulated_output('Report')\n",
    "df.mean(numeric_only=True)"
   ]
  },
  {
   "cell_type": "markdown",
   "id": "93d2a1c62dd539eb",
   "metadata": {
    "collapsed": false
   },
   "source": [
    "# Method chaining with some model editing"
   ]
  },
  {
   "cell_type": "code",
   "execution_count": 5,
   "id": "60a15750130d1b7a",
   "metadata": {
    "ExecuteTime": {
     "end_time": "2025-10-05T20:51:41.400748Z",
     "start_time": "2025-10-05T20:51:36.355958600Z"
    },
    "collapsed": false
   },
   "outputs": [
    {
     "data": {
      "text/plain": [
       "CheckpointID                     1.000000\n",
       "SimulationID                     1.000000\n",
       "Maize.AboveGround.Wt          1489.537802\n",
       "Maize.AboveGround.N             14.744787\n",
       "Yield                         6401.875060\n",
       "Maize.Grain.Wt                 640.187506\n",
       "Maize.Grain.Size                 0.285645\n",
       "Maize.Grain.NumberFunction    2327.909542\n",
       "Maize.Grain.Total.Wt           640.187506\n",
       "Maize.Grain.N                    8.455346\n",
       "Maize.Total.Wt                1620.941414\n",
       "dtype: float64"
      ]
     },
     "execution_count": 5,
     "metadata": {},
     "output_type": "execute_result"
    }
   ],
   "source": [
    "df = ApsimModel('Maize').edit_model(model_type='Models.Manager', \n",
    "                                    model_name='Sow using a variable rule', \n",
    "                                    Population =12).run().results\n",
    "df.mean(numeric_only=True)"
   ]
  },
  {
   "cell_type": "markdown",
   "id": "f72dde05b26f71b",
   "metadata": {
    "collapsed": false
   },
   "source": [
    "Just to make sure it is working, let's change the population to 4"
   ]
  },
  {
   "cell_type": "code",
   "execution_count": 6,
   "id": "19a7360f6fa68008",
   "metadata": {
    "ExecuteTime": {
     "end_time": "2025-10-05T20:52:24.434999900Z",
     "start_time": "2025-10-05T20:52:19.509198200Z"
    },
    "collapsed": false
   },
   "outputs": [
    {
     "data": {
      "text/plain": [
       "CheckpointID                     1.000000\n",
       "SimulationID                     1.000000\n",
       "Maize.AboveGround.Wt          1039.267466\n",
       "Maize.AboveGround.N             10.433845\n",
       "Yield                         4786.612059\n",
       "Maize.Grain.Wt                 478.661206\n",
       "Maize.Grain.Size                 0.284626\n",
       "Maize.Grain.NumberFunction    1661.918597\n",
       "Maize.Grain.Total.Wt           478.661206\n",
       "Maize.Grain.N                    6.298505\n",
       "Maize.Total.Wt                1136.537577\n",
       "dtype: float64"
      ]
     },
     "execution_count": 6,
     "metadata": {},
     "output_type": "execute_result"
    }
   ],
   "source": [
    "df = ApsimModel('Maize').edit_model(model_type='Models.Manager',\n",
    "                                    model_name='Sow using a variable rule',\n",
    "                                    Population =4).run().results\n",
    "df.mean(numeric_only=True)"
   ]
  },
  {
   "cell_type": "markdown",
   "id": "8b2dacc55e181dd8",
   "metadata": {
    "collapsed": false
   },
   "source": [
    "Since example one and two produced different mean values, it implies that our editing worked. For example, mean maize yield at a population of `12`, was\n",
    "`6401.875060` kg while at `4` was `4786.612059` kg. Method chaining, however, has some drawbacks such as poor readability, and maybe harder to debug chained methods"
   ]
  },
  {
   "cell_type": "code",
   "execution_count": null,
   "id": "d8a03621c24cbf29",
   "metadata": {
    "collapsed": false
   },
   "outputs": [],
   "source": []
  },
  {
   "cell_type": "code",
   "execution_count": 8,
   "id": "c50edcdd0a6caab9",
   "metadata": {
    "ExecuteTime": {
     "end_time": "2025-10-05T22:31:54.357004200Z",
     "start_time": "2025-10-05T22:31:54.151887100Z"
    },
    "collapsed": false
   },
   "outputs": [
    {
     "name": "stdout",
     "output_type": "stream",
     "text": [
      "Notebook generated by;\n",
      " APSIM version: `APSIM 2025.8.7844.0`\n",
      " apsimNGpy version 0.39.9.15\n"
     ]
    }
   ],
   "source": [
    "from apsimNGpy.core.config import apsim_version\n",
    "from apsimNGpy import version\n",
    "from apsimNGpy.settings import logger\n",
    "print(f\"Notebook generated by;\\n APSIM version: `{apsim_version()}`\\n apsimNGpy version {version.version}\")"
   ]
  },
  {
   "cell_type": "code",
   "execution_count": null,
   "id": "f7302da0f4a9f5c7",
   "metadata": {
    "collapsed": false
   },
   "outputs": [],
   "source": []
  }
 ],
 "metadata": {
  "kernelspec": {
   "display_name": "Python 3",
   "language": "python",
   "name": "python3"
  },
  "language_info": {
   "codemirror_mode": {
    "name": "ipython",
    "version": 2
   },
   "file_extension": ".py",
   "mimetype": "text/x-python",
   "name": "python",
   "nbconvert_exporter": "python",
   "pygments_lexer": "ipython2",
   "version": "2.7.6"
  }
 },
 "nbformat": 4,
 "nbformat_minor": 5
}

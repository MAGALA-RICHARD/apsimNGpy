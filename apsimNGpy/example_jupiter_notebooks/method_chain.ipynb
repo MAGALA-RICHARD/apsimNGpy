{
 "cells": [
  {
   "cell_type": "markdown",
   "source": [
    "# Method chaining"
   ],
   "metadata": {
    "collapsed": false
   },
   "id": "fbe4ae373a0e4872"
  },
  {
   "cell_type": "markdown",
   "source": [
    "# Why method chaining?\n",
    "\n",
    "Chaining lets you instantiate, configure, run, edit or apply any method all in one readable pipeline.\n",
    "In apsimNGpy, most builder methods return self (so you can keep chaining), while terminal methods like ``get_simulated_output`` return results (e.g., a DataFrame) and end the chain. See the example below."
   ],
   "metadata": {
    "collapsed": false
   },
   "id": "909fa0cc8fff7759"
  },
  {
   "cell_type": "code",
   "outputs": [
    {
     "data": {
      "text/plain": "CheckpointID                     1.000000\nSimulationID                     1.000000\nMaize.AboveGround.Wt          1225.099950\nMaize.AboveGround.N             12.381196\nYield                         5636.529504\nMaize.Grain.Wt                 563.652950\nMaize.Grain.Size                 0.284941\nMaize.Grain.NumberFunction    1986.770519\nMaize.Grain.Total.Wt           563.652950\nMaize.Grain.N                    7.459296\nMaize.Total.Wt                1340.837427\ndtype: float64"
     },
     "execution_count": 7,
     "metadata": {},
     "output_type": "execute_result"
    }
   ],
   "source": [
    "from apsimNGpy.core.apsim import ApsimModel\n",
    "df =ApsimModel('Maize').run().get_simulated_output('Report')\n",
    "df.mean(numeric_only=True)"
   ],
   "metadata": {
    "collapsed": false,
    "ExecuteTime": {
     "end_time": "2025-10-05T21:22:28.810295300Z",
     "start_time": "2025-10-05T21:22:23.656789400Z"
    }
   },
   "id": "3d355a67a73d0b6f",
   "execution_count": 7
  },
  {
   "cell_type": "markdown",
   "source": [
    "# Method chaining with some model editing"
   ],
   "metadata": {
    "collapsed": false
   },
   "id": "93d2a1c62dd539eb"
  },
  {
   "cell_type": "code",
   "outputs": [
    {
     "data": {
      "text/plain": "CheckpointID                     1.000000\nSimulationID                     1.000000\nMaize.AboveGround.Wt          1489.537802\nMaize.AboveGround.N             14.744787\nYield                         6401.875060\nMaize.Grain.Wt                 640.187506\nMaize.Grain.Size                 0.285645\nMaize.Grain.NumberFunction    2327.909542\nMaize.Grain.Total.Wt           640.187506\nMaize.Grain.N                    8.455346\nMaize.Total.Wt                1620.941414\ndtype: float64"
     },
     "execution_count": 5,
     "metadata": {},
     "output_type": "execute_result"
    }
   ],
   "source": [
    "df = ApsimModel('Maize').edit_model(model_type='Models.Manager', \n",
    "                                    model_name='Sow using a variable rule', \n",
    "                                    Population =12).run().results\n",
    "df.mean(numeric_only=True)"
   ],
   "metadata": {
    "collapsed": false,
    "ExecuteTime": {
     "end_time": "2025-10-05T20:51:41.400748Z",
     "start_time": "2025-10-05T20:51:36.355958600Z"
    }
   },
   "id": "60a15750130d1b7a",
   "execution_count": 5
  },
  {
   "cell_type": "markdown",
   "source": [
    "Just to make sure it is working, let's change the population to 4"
   ],
   "metadata": {
    "collapsed": false
   },
   "id": "f72dde05b26f71b"
  },
  {
   "cell_type": "code",
   "outputs": [
    {
     "data": {
      "text/plain": "CheckpointID                     1.000000\nSimulationID                     1.000000\nMaize.AboveGround.Wt          1039.267466\nMaize.AboveGround.N             10.433845\nYield                         4786.612059\nMaize.Grain.Wt                 478.661206\nMaize.Grain.Size                 0.284626\nMaize.Grain.NumberFunction    1661.918597\nMaize.Grain.Total.Wt           478.661206\nMaize.Grain.N                    6.298505\nMaize.Total.Wt                1136.537577\ndtype: float64"
     },
     "execution_count": 6,
     "metadata": {},
     "output_type": "execute_result"
    }
   ],
   "source": [
    "df = ApsimModel('Maize').edit_model(model_type='Models.Manager',\n",
    "                                    model_name='Sow using a variable rule',\n",
    "                                    Population =4).run().results\n",
    "df.mean(numeric_only=True)"
   ],
   "metadata": {
    "collapsed": false,
    "ExecuteTime": {
     "end_time": "2025-10-05T20:52:24.434999900Z",
     "start_time": "2025-10-05T20:52:19.509198200Z"
    }
   },
   "id": "19a7360f6fa68008",
   "execution_count": 6
  },
  {
   "cell_type": "markdown",
   "source": [
    "Since example one and two produced different mean values, it implies that our editing worked. For example, mean maize yield at a population of `12`, was\n",
    "6401.875060 kg while at 4 was 4786.612059 kg. Method chaining, however, has some drawbacks such as poor readability, and maybe harder to debug chained methods"
   ],
   "metadata": {
    "collapsed": false
   },
   "id": "8b2dacc55e181dd8"
  }
 ],
 "metadata": {
  "kernelspec": {
   "display_name": "Python 3",
   "language": "python",
   "name": "python3"
  },
  "language_info": {
   "codemirror_mode": {
    "name": "ipython",
    "version": 2
   },
   "file_extension": ".py",
   "mimetype": "text/x-python",
   "name": "python",
   "nbconvert_exporter": "python",
   "pygments_lexer": "ipython2",
   "version": "2.7.6"
  }
 },
 "nbformat": 4,
 "nbformat_minor": 5
}

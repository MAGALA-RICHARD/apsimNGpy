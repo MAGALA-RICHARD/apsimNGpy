{
 "cells": [
  {
   "cell_type": "markdown",
   "id": "fbe4ae373a0e4872",
   "metadata": {
    "collapsed": false
   },
   "source": [
    "# Method chaining"
   ]
  },
  {
   "cell_type": "markdown",
   "id": "909fa0cc8fff7759",
   "metadata": {
    "collapsed": false
   },
   "source": [
    "# Why method chaining?\n",
    "\n",
    "Chaining lets you instantiate, configure, run, edit or apply any method all in one readable pipeline.\n",
    "In apsimNGpy, most builder methods return self (so you can keep chaining), while terminal methods like ``get_simulated_output`` return results (e.g., a DataFrame) and end the chain. See the example below."
   ]
  },
  {
   "cell_type": "code",
   "execution_count": 2,
   "id": "3d355a67a73d0b6f",
   "metadata": {
    "ExecuteTime": {
     "end_time": "2025-10-05T20:49:08.078909700Z",
     "start_time": "2025-10-05T20:49:02.862718300Z"
    },
    "collapsed": false
   },
   "outputs": [
    {
     "data": {
      "text/html": [
       "<div>\n",
       "<style scoped>\n",
       "    .dataframe tbody tr th:only-of-type {\n",
       "        vertical-align: middle;\n",
       "    }\n",
       "\n",
       "    .dataframe tbody tr th {\n",
       "        vertical-align: top;\n",
       "    }\n",
       "\n",
       "    .dataframe thead th {\n",
       "        text-align: right;\n",
       "    }\n",
       "</style>\n",
       "<table border=\"1\" class=\"dataframe\">\n",
       "  <thead>\n",
       "    <tr style=\"text-align: right;\">\n",
       "      <th></th>\n",
       "      <th>CheckpointID</th>\n",
       "      <th>SimulationID</th>\n",
       "      <th>Zone</th>\n",
       "      <th>Clock.Today</th>\n",
       "      <th>Maize.Phenology.CurrentStageName</th>\n",
       "      <th>Maize.AboveGround.Wt</th>\n",
       "      <th>Maize.AboveGround.N</th>\n",
       "      <th>Yield</th>\n",
       "      <th>Maize.Grain.Wt</th>\n",
       "      <th>Maize.Grain.Size</th>\n",
       "      <th>Maize.Grain.NumberFunction</th>\n",
       "      <th>Maize.Grain.Total.Wt</th>\n",
       "      <th>Maize.Grain.N</th>\n",
       "      <th>Maize.Total.Wt</th>\n",
       "      <th>source_table</th>\n",
       "    </tr>\n",
       "  </thead>\n",
       "  <tbody>\n",
       "    <tr>\n",
       "      <th>0</th>\n",
       "      <td>1</td>\n",
       "      <td>1</td>\n",
       "      <td>Field</td>\n",
       "      <td>1991-05-28 00:00:00</td>\n",
       "      <td>HarvestRipe</td>\n",
       "      <td>1603.309641</td>\n",
       "      <td>15.578250</td>\n",
       "      <td>8469.615813</td>\n",
       "      <td>846.961581</td>\n",
       "      <td>0.278267</td>\n",
       "      <td>3043.698222</td>\n",
       "      <td>846.961581</td>\n",
       "      <td>11.178291</td>\n",
       "      <td>1728.427114</td>\n",
       "      <td>Report</td>\n",
       "    </tr>\n",
       "    <tr>\n",
       "      <th>1</th>\n",
       "      <td>1</td>\n",
       "      <td>1</td>\n",
       "      <td>Field</td>\n",
       "      <td>1992-04-09 00:00:00</td>\n",
       "      <td>HarvestRipe</td>\n",
       "      <td>849.734144</td>\n",
       "      <td>9.684291</td>\n",
       "      <td>4674.514452</td>\n",
       "      <td>467.451445</td>\n",
       "      <td>0.273804</td>\n",
       "      <td>1707.246422</td>\n",
       "      <td>467.451445</td>\n",
       "      <td>6.226327</td>\n",
       "      <td>922.393712</td>\n",
       "      <td>Report</td>\n",
       "    </tr>\n",
       "    <tr>\n",
       "      <th>2</th>\n",
       "      <td>1</td>\n",
       "      <td>1</td>\n",
       "      <td>Field</td>\n",
       "      <td>1993-03-16 00:00:00</td>\n",
       "      <td>HarvestRipe</td>\n",
       "      <td>182.766781</td>\n",
       "      <td>1.861545</td>\n",
       "      <td>555.021350</td>\n",
       "      <td>55.502135</td>\n",
       "      <td>0.304067</td>\n",
       "      <td>182.532674</td>\n",
       "      <td>55.502135</td>\n",
       "      <td>0.752357</td>\n",
       "      <td>204.108770</td>\n",
       "      <td>Report</td>\n",
       "    </tr>\n",
       "    <tr>\n",
       "      <th>3</th>\n",
       "      <td>1</td>\n",
       "      <td>1</td>\n",
       "      <td>Field</td>\n",
       "      <td>1994-03-15 00:00:00</td>\n",
       "      <td>HarvestRipe</td>\n",
       "      <td>795.133784</td>\n",
       "      <td>8.344360</td>\n",
       "      <td>3504.274669</td>\n",
       "      <td>350.427467</td>\n",
       "      <td>0.226733</td>\n",
       "      <td>1545.553056</td>\n",
       "      <td>350.427467</td>\n",
       "      <td>4.886844</td>\n",
       "      <td>869.242545</td>\n",
       "      <td>Report</td>\n",
       "    </tr>\n",
       "    <tr>\n",
       "      <th>4</th>\n",
       "      <td>1</td>\n",
       "      <td>1</td>\n",
       "      <td>Field</td>\n",
       "      <td>1995-04-04 00:00:00</td>\n",
       "      <td>HarvestRipe</td>\n",
       "      <td>1525.129268</td>\n",
       "      <td>16.481579</td>\n",
       "      <td>7820.119109</td>\n",
       "      <td>782.011911</td>\n",
       "      <td>0.273512</td>\n",
       "      <td>2859.155304</td>\n",
       "      <td>782.011911</td>\n",
       "      <td>10.463854</td>\n",
       "      <td>1665.483701</td>\n",
       "      <td>Report</td>\n",
       "    </tr>\n",
       "    <tr>\n",
       "      <th>5</th>\n",
       "      <td>1</td>\n",
       "      <td>1</td>\n",
       "      <td>Field</td>\n",
       "      <td>1996-03-15 00:00:00</td>\n",
       "      <td>HarvestRipe</td>\n",
       "      <td>1968.461107</td>\n",
       "      <td>18.309420</td>\n",
       "      <td>8823.515674</td>\n",
       "      <td>882.351567</td>\n",
       "      <td>0.299579</td>\n",
       "      <td>2945.304819</td>\n",
       "      <td>882.351567</td>\n",
       "      <td>11.253916</td>\n",
       "      <td>2124.739830</td>\n",
       "      <td>Report</td>\n",
       "    </tr>\n",
       "    <tr>\n",
       "      <th>6</th>\n",
       "      <td>1</td>\n",
       "      <td>1</td>\n",
       "      <td>Field</td>\n",
       "      <td>1997-04-05 00:00:00</td>\n",
       "      <td>HarvestRipe</td>\n",
       "      <td>1111.598168</td>\n",
       "      <td>11.093948</td>\n",
       "      <td>3801.835087</td>\n",
       "      <td>380.183509</td>\n",
       "      <td>0.299032</td>\n",
       "      <td>1271.381358</td>\n",
       "      <td>380.183509</td>\n",
       "      <td>5.044417</td>\n",
       "      <td>1261.674967</td>\n",
       "      <td>Report</td>\n",
       "    </tr>\n",
       "    <tr>\n",
       "      <th>7</th>\n",
       "      <td>1</td>\n",
       "      <td>1</td>\n",
       "      <td>Field</td>\n",
       "      <td>1998-03-06 00:00:00</td>\n",
       "      <td>HarvestRipe</td>\n",
       "      <td>837.748399</td>\n",
       "      <td>8.164285</td>\n",
       "      <td>2942.998821</td>\n",
       "      <td>294.299882</td>\n",
       "      <td>0.304830</td>\n",
       "      <td>965.454274</td>\n",
       "      <td>294.299882</td>\n",
       "      <td>3.955080</td>\n",
       "      <td>951.303260</td>\n",
       "      <td>Report</td>\n",
       "    </tr>\n",
       "    <tr>\n",
       "      <th>8</th>\n",
       "      <td>1</td>\n",
       "      <td>1</td>\n",
       "      <td>Field</td>\n",
       "      <td>1999-04-10 00:00:00</td>\n",
       "      <td>HarvestRipe</td>\n",
       "      <td>1835.874288</td>\n",
       "      <td>17.893313</td>\n",
       "      <td>8379.927745</td>\n",
       "      <td>837.992775</td>\n",
       "      <td>0.298382</td>\n",
       "      <td>2808.459348</td>\n",
       "      <td>837.992775</td>\n",
       "      <td>11.080878</td>\n",
       "      <td>1987.106980</td>\n",
       "      <td>Report</td>\n",
       "    </tr>\n",
       "    <tr>\n",
       "      <th>9</th>\n",
       "      <td>1</td>\n",
       "      <td>1</td>\n",
       "      <td>Field</td>\n",
       "      <td>2000-04-05 00:00:00</td>\n",
       "      <td>HarvestRipe</td>\n",
       "      <td>1541.243919</td>\n",
       "      <td>16.400969</td>\n",
       "      <td>7393.472320</td>\n",
       "      <td>739.347232</td>\n",
       "      <td>0.291205</td>\n",
       "      <td>2538.919719</td>\n",
       "      <td>739.347232</td>\n",
       "      <td>9.751001</td>\n",
       "      <td>1693.893386</td>\n",
       "      <td>Report</td>\n",
       "    </tr>\n",
       "  </tbody>\n",
       "</table>\n",
       "</div>"
      ],
      "text/plain": [
       "   CheckpointID  SimulationID   Zone          Clock.Today  \\\n",
       "0             1             1  Field  1991-05-28 00:00:00   \n",
       "1             1             1  Field  1992-04-09 00:00:00   \n",
       "2             1             1  Field  1993-03-16 00:00:00   \n",
       "3             1             1  Field  1994-03-15 00:00:00   \n",
       "4             1             1  Field  1995-04-04 00:00:00   \n",
       "5             1             1  Field  1996-03-15 00:00:00   \n",
       "6             1             1  Field  1997-04-05 00:00:00   \n",
       "7             1             1  Field  1998-03-06 00:00:00   \n",
       "8             1             1  Field  1999-04-10 00:00:00   \n",
       "9             1             1  Field  2000-04-05 00:00:00   \n",
       "\n",
       "  Maize.Phenology.CurrentStageName  Maize.AboveGround.Wt  Maize.AboveGround.N  \\\n",
       "0                      HarvestRipe           1603.309641            15.578250   \n",
       "1                      HarvestRipe            849.734144             9.684291   \n",
       "2                      HarvestRipe            182.766781             1.861545   \n",
       "3                      HarvestRipe            795.133784             8.344360   \n",
       "4                      HarvestRipe           1525.129268            16.481579   \n",
       "5                      HarvestRipe           1968.461107            18.309420   \n",
       "6                      HarvestRipe           1111.598168            11.093948   \n",
       "7                      HarvestRipe            837.748399             8.164285   \n",
       "8                      HarvestRipe           1835.874288            17.893313   \n",
       "9                      HarvestRipe           1541.243919            16.400969   \n",
       "\n",
       "         Yield  Maize.Grain.Wt  Maize.Grain.Size  Maize.Grain.NumberFunction  \\\n",
       "0  8469.615813      846.961581          0.278267                 3043.698222   \n",
       "1  4674.514452      467.451445          0.273804                 1707.246422   \n",
       "2   555.021350       55.502135          0.304067                  182.532674   \n",
       "3  3504.274669      350.427467          0.226733                 1545.553056   \n",
       "4  7820.119109      782.011911          0.273512                 2859.155304   \n",
       "5  8823.515674      882.351567          0.299579                 2945.304819   \n",
       "6  3801.835087      380.183509          0.299032                 1271.381358   \n",
       "7  2942.998821      294.299882          0.304830                  965.454274   \n",
       "8  8379.927745      837.992775          0.298382                 2808.459348   \n",
       "9  7393.472320      739.347232          0.291205                 2538.919719   \n",
       "\n",
       "   Maize.Grain.Total.Wt  Maize.Grain.N  Maize.Total.Wt source_table  \n",
       "0            846.961581      11.178291     1728.427114       Report  \n",
       "1            467.451445       6.226327      922.393712       Report  \n",
       "2             55.502135       0.752357      204.108770       Report  \n",
       "3            350.427467       4.886844      869.242545       Report  \n",
       "4            782.011911      10.463854     1665.483701       Report  \n",
       "5            882.351567      11.253916     2124.739830       Report  \n",
       "6            380.183509       5.044417     1261.674967       Report  \n",
       "7            294.299882       3.955080      951.303260       Report  \n",
       "8            837.992775      11.080878     1987.106980       Report  \n",
       "9            739.347232       9.751001     1693.893386       Report  "
      ]
     },
     "execution_count": 2,
     "metadata": {},
     "output_type": "execute_result"
    }
   ],
   "source": [
    "from apsimNGpy.core.apsim import ApsimModel\n",
    "df =ApsimModel('Maize').run().get_simulated_output('Report')\n",
    "df"
   ]
  },
  {
   "cell_type": "markdown",
   "id": "93d2a1c62dd539eb",
   "metadata": {
    "collapsed": false
   },
   "source": [
    "# Method chaining with some model editing"
   ]
  },
  {
   "cell_type": "code",
   "execution_count": 5,
   "id": "60a15750130d1b7a",
   "metadata": {
    "ExecuteTime": {
     "end_time": "2025-10-05T20:51:41.400748Z",
     "start_time": "2025-10-05T20:51:36.355958600Z"
    },
    "collapsed": false
   },
   "outputs": [
    {
     "data": {
      "text/plain": [
       "CheckpointID                     1.000000\n",
       "SimulationID                     1.000000\n",
       "Maize.AboveGround.Wt          1489.537802\n",
       "Maize.AboveGround.N             14.744787\n",
       "Yield                         6401.875060\n",
       "Maize.Grain.Wt                 640.187506\n",
       "Maize.Grain.Size                 0.285645\n",
       "Maize.Grain.NumberFunction    2327.909542\n",
       "Maize.Grain.Total.Wt           640.187506\n",
       "Maize.Grain.N                    8.455346\n",
       "Maize.Total.Wt                1620.941414\n",
       "dtype: float64"
      ]
     },
     "execution_count": 5,
     "metadata": {},
     "output_type": "execute_result"
    }
   ],
   "source": [
    "df = ApsimModel('Maize').edit_model(model_type='Models.Manager', model_name='Sow using a variable rule', Population =12).run().results\n",
    "df.mean(numeric_only=True)"
   ]
  },
  {
   "cell_type": "markdown",
   "id": "f72dde05b26f71b",
   "metadata": {
    "collapsed": false
   },
   "source": [
    "just to make sure it is working, let's change the population to 4"
   ]
  },
  {
   "cell_type": "code",
   "execution_count": 6,
   "id": "19a7360f6fa68008",
   "metadata": {
    "ExecuteTime": {
     "end_time": "2025-10-05T20:52:24.434999900Z",
     "start_time": "2025-10-05T20:52:19.509198200Z"
    },
    "collapsed": false
   },
   "outputs": [
    {
     "data": {
      "text/plain": [
       "CheckpointID                     1.000000\n",
       "SimulationID                     1.000000\n",
       "Maize.AboveGround.Wt          1039.267466\n",
       "Maize.AboveGround.N             10.433845\n",
       "Yield                         4786.612059\n",
       "Maize.Grain.Wt                 478.661206\n",
       "Maize.Grain.Size                 0.284626\n",
       "Maize.Grain.NumberFunction    1661.918597\n",
       "Maize.Grain.Total.Wt           478.661206\n",
       "Maize.Grain.N                    6.298505\n",
       "Maize.Total.Wt                1136.537577\n",
       "dtype: float64"
      ]
     },
     "execution_count": 6,
     "metadata": {},
     "output_type": "execute_result"
    }
   ],
   "source": [
    "df = ApsimModel('Maize').edit_model(model_type='Models.Manager', model_name='Sow using a variable rule', Population =4).run().results\n",
    "df.mean(numeric_only=True)"
   ]
  },
  {
   "cell_type": "markdown",
   "id": "8b2dacc55e181dd8",
   "metadata": {
    "collapsed": false
   },
   "source": [
    "Since example one and two produced different mean values, it implies that our editing worked. Method, chaining, however, has some drawbacks such as poor readability, and maybe harder to debug chained methods"
   ]
  }
 ],
 "metadata": {
  "kernelspec": {
   "display_name": "Python 3",
   "language": "python",
   "name": "python3"
  },
  "language_info": {
   "codemirror_mode": {
    "name": "ipython",
    "version": 2
   },
   "file_extension": ".py",
   "mimetype": "text/x-python",
   "name": "python",
   "nbconvert_exporter": "python",
   "pygments_lexer": "ipython2",
   "version": "2.7.6"
  }
 },
 "nbformat": 4,
 "nbformat_minor": 5
}

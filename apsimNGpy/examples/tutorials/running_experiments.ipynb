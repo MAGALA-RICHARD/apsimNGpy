{
 "cells": [
  {
   "cell_type": "raw",
   "id": "c7d17cec3305f492",
   "metadata": {
    "collapsed": false,
    "jupyter": {
     "outputs_hidden": false
    }
   },
   "source": [
    "# Quick and simple way to run factorial experiments"
   ]
  },
  {
   "cell_type": "code",
   "execution_count": 6,
   "id": "f94e3509f0bc5ba9",
   "metadata": {
    "ExecuteTime": {
     "end_time": "2025-03-24T14:18:06.537105500Z",
     "start_time": "2025-03-24T14:18:06.123578200Z"
    },
    "collapsed": false,
    "jupyter": {
     "outputs_hidden": false
    }
   },
   "outputs": [],
   "source": [
    "import pandas as pd\n",
    "\n",
    "from apsimNGpy.core.base_data import load_default_simulations\n",
    "from apsimNGpy.core.core import APSIMNG\n",
    "_apsim = load_default_simulations(crop = 'Maize', simulations_object=False)\n",
    "apsim = APSIMNG(_apsim)\n",
    "# create experiment initiate the experiment\n",
    "apsim.create_experiment(permutation=True, verbose=False)# by default it is a permutation experiment"
   ]
  },
  {
   "cell_type": "code",
   "execution_count": null,
   "id": "aef3fc4685eb1bb7",
   "metadata": {
    "ExecuteTime": {
     "end_time": "2025-03-24T14:18:13.540267Z",
     "start_time": "2025-03-24T14:18:08.645464100Z"
    },
    "collapsed": false,
    "jupyter": {
     "outputs_hidden": false
    }
   },
   "outputs": [
    {
     "data": {
      "text/plain": [
       "<apsimNGpy.core.core.APSIMNG at 0x19b0ba58e10>"
      ]
     },
     "execution_count": 7,
     "metadata": {},
     "output_type": "execute_result"
    }
   ],
   "source": [
    "apsim.add_factor(specification=\"[Fertilise at sowing].Script.Amount = 0 to 200 step 20\", factor_name='Nitrogen')\n",
    "apsim.add_factor(specification=\"[Sow using a variable rule].Script.Population =4 to 10 step 2\", factor_name='Population')\n"
   ]
  },
  {
   "cell_type": "code",
   "execution_count": 11,
   "id": "66748809",
   "metadata": {},
   "outputs": [
    {
     "data": {
      "text/plain": [
       "<apsimNGpy.core.core.APSIMNG at 0x19b0ba58e10>"
      ]
     },
     "execution_count": 11,
     "metadata": {},
     "output_type": "execute_result"
    }
   ],
   "source": [
    "apsim.run(report_name='Report') "
   ]
  },
  {
   "cell_type": "raw",
   "id": "e4df4a3da17a056c",
   "metadata": {
    "collapsed": false,
    "jupyter": {
     "outputs_hidden": false
    },
    "vscode": {
     "languageId": "raw"
    }
   },
   "source": []
  },
  {
   "cell_type": "code",
   "execution_count": 12,
   "id": "bedbf89e843736f",
   "metadata": {
    "ExecuteTime": {
     "end_time": "2025-03-24T14:08:23.684151600Z",
     "start_time": "2025-03-24T14:08:23.662014200Z"
    },
    "collapsed": false,
    "jupyter": {
     "outputs_hidden": false
    }
   },
   "outputs": [
    {
     "data": {
      "text/html": [
       "<div>\n",
       "<style scoped>\n",
       "    .dataframe tbody tr th:only-of-type {\n",
       "        vertical-align: middle;\n",
       "    }\n",
       "\n",
       "    .dataframe tbody tr th {\n",
       "        vertical-align: top;\n",
       "    }\n",
       "\n",
       "    .dataframe thead th {\n",
       "        text-align: right;\n",
       "    }\n",
       "</style>\n",
       "<table border=\"1\" class=\"dataframe\">\n",
       "  <thead>\n",
       "    <tr style=\"text-align: right;\">\n",
       "      <th></th>\n",
       "      <th>SimulationName</th>\n",
       "      <th>SimulationID</th>\n",
       "      <th>CheckpointID</th>\n",
       "      <th>CheckpointName</th>\n",
       "      <th>Clock.Today</th>\n",
       "      <th>Experiment</th>\n",
       "      <th>Maize.AboveGround.N</th>\n",
       "      <th>Maize.AboveGround.Wt</th>\n",
       "      <th>Maize.Grain.N</th>\n",
       "      <th>Maize.Grain.NumberFunction</th>\n",
       "      <th>Maize.Grain.Size</th>\n",
       "      <th>Maize.Grain.Total.Wt</th>\n",
       "      <th>Maize.Grain.Wt</th>\n",
       "      <th>Maize.Phenology.CurrentStageName</th>\n",
       "      <th>Maize.Total.Wt</th>\n",
       "      <th>Nitrogen</th>\n",
       "      <th>Population</th>\n",
       "      <th>Yield</th>\n",
       "      <th>Zone</th>\n",
       "    </tr>\n",
       "  </thead>\n",
       "  <tbody>\n",
       "    <tr>\n",
       "      <th>0</th>\n",
       "      <td>ExperimentNitrogen0Population10</td>\n",
       "      <td>33</td>\n",
       "      <td>1</td>\n",
       "      <td>Current</td>\n",
       "      <td>1991-05-28</td>\n",
       "      <td>Experiment</td>\n",
       "      <td>7.557</td>\n",
       "      <td>1061.484</td>\n",
       "      <td>5.157</td>\n",
       "      <td>3550.151</td>\n",
       "      <td>0.124</td>\n",
       "      <td>438.523</td>\n",
       "      <td>438.523</td>\n",
       "      <td>HarvestRipe</td>\n",
       "      <td>1149.863</td>\n",
       "      <td>0</td>\n",
       "      <td>10</td>\n",
       "      <td>4385.230</td>\n",
       "      <td>Field</td>\n",
       "    </tr>\n",
       "    <tr>\n",
       "      <th>1</th>\n",
       "      <td>ExperimentNitrogen0Population10</td>\n",
       "      <td>33</td>\n",
       "      <td>1</td>\n",
       "      <td>Current</td>\n",
       "      <td>1992-04-09</td>\n",
       "      <td>Experiment</td>\n",
       "      <td>0.379</td>\n",
       "      <td>60.550</td>\n",
       "      <td>0.000</td>\n",
       "      <td>0.000</td>\n",
       "      <td>0.000</td>\n",
       "      <td>0.000</td>\n",
       "      <td>0.000</td>\n",
       "      <td>HarvestRipe</td>\n",
       "      <td>63.317</td>\n",
       "      <td>0</td>\n",
       "      <td>10</td>\n",
       "      <td>0.000</td>\n",
       "      <td>Field</td>\n",
       "    </tr>\n",
       "    <tr>\n",
       "      <th>2</th>\n",
       "      <td>ExperimentNitrogen0Population10</td>\n",
       "      <td>33</td>\n",
       "      <td>1</td>\n",
       "      <td>Current</td>\n",
       "      <td>1993-03-16</td>\n",
       "      <td>Experiment</td>\n",
       "      <td>1.593</td>\n",
       "      <td>253.212</td>\n",
       "      <td>0.985</td>\n",
       "      <td>723.778</td>\n",
       "      <td>0.134</td>\n",
       "      <td>96.647</td>\n",
       "      <td>96.647</td>\n",
       "      <td>HarvestRipe</td>\n",
       "      <td>279.508</td>\n",
       "      <td>0</td>\n",
       "      <td>10</td>\n",
       "      <td>966.473</td>\n",
       "      <td>Field</td>\n",
       "    </tr>\n",
       "    <tr>\n",
       "      <th>3</th>\n",
       "      <td>ExperimentNitrogen0Population10</td>\n",
       "      <td>33</td>\n",
       "      <td>1</td>\n",
       "      <td>Current</td>\n",
       "      <td>1994-03-15</td>\n",
       "      <td>Experiment</td>\n",
       "      <td>1.097</td>\n",
       "      <td>148.141</td>\n",
       "      <td>0.856</td>\n",
       "      <td>403.927</td>\n",
       "      <td>0.205</td>\n",
       "      <td>82.705</td>\n",
       "      <td>82.705</td>\n",
       "      <td>HarvestRipe</td>\n",
       "      <td>151.993</td>\n",
       "      <td>0</td>\n",
       "      <td>10</td>\n",
       "      <td>827.046</td>\n",
       "      <td>Field</td>\n",
       "    </tr>\n",
       "    <tr>\n",
       "      <th>4</th>\n",
       "      <td>ExperimentNitrogen0Population10</td>\n",
       "      <td>33</td>\n",
       "      <td>1</td>\n",
       "      <td>Current</td>\n",
       "      <td>1995-04-04</td>\n",
       "      <td>Experiment</td>\n",
       "      <td>4.910</td>\n",
       "      <td>785.159</td>\n",
       "      <td>3.030</td>\n",
       "      <td>3012.005</td>\n",
       "      <td>0.098</td>\n",
       "      <td>296.098</td>\n",
       "      <td>296.098</td>\n",
       "      <td>HarvestRipe</td>\n",
       "      <td>869.135</td>\n",
       "      <td>0</td>\n",
       "      <td>10</td>\n",
       "      <td>2960.977</td>\n",
       "      <td>Field</td>\n",
       "    </tr>\n",
       "    <tr>\n",
       "      <th>...</th>\n",
       "      <td>...</td>\n",
       "      <td>...</td>\n",
       "      <td>...</td>\n",
       "      <td>...</td>\n",
       "      <td>...</td>\n",
       "      <td>...</td>\n",
       "      <td>...</td>\n",
       "      <td>...</td>\n",
       "      <td>...</td>\n",
       "      <td>...</td>\n",
       "      <td>...</td>\n",
       "      <td>...</td>\n",
       "      <td>...</td>\n",
       "      <td>...</td>\n",
       "      <td>...</td>\n",
       "      <td>...</td>\n",
       "      <td>...</td>\n",
       "      <td>...</td>\n",
       "      <td>...</td>\n",
       "    </tr>\n",
       "    <tr>\n",
       "      <th>435</th>\n",
       "      <td>ExperimentNitrogen80Population8</td>\n",
       "      <td>27</td>\n",
       "      <td>1</td>\n",
       "      <td>Current</td>\n",
       "      <td>1996-03-15</td>\n",
       "      <td>Experiment</td>\n",
       "      <td>9.282</td>\n",
       "      <td>1413.514</td>\n",
       "      <td>6.965</td>\n",
       "      <td>3026.456</td>\n",
       "      <td>0.217</td>\n",
       "      <td>656.531</td>\n",
       "      <td>656.531</td>\n",
       "      <td>HarvestRipe</td>\n",
       "      <td>1519.247</td>\n",
       "      <td>80</td>\n",
       "      <td>8</td>\n",
       "      <td>6565.313</td>\n",
       "      <td>Field</td>\n",
       "    </tr>\n",
       "    <tr>\n",
       "      <th>436</th>\n",
       "      <td>ExperimentNitrogen80Population8</td>\n",
       "      <td>27</td>\n",
       "      <td>1</td>\n",
       "      <td>Current</td>\n",
       "      <td>1997-04-05</td>\n",
       "      <td>Experiment</td>\n",
       "      <td>9.218</td>\n",
       "      <td>1036.280</td>\n",
       "      <td>3.693</td>\n",
       "      <td>923.010</td>\n",
       "      <td>0.300</td>\n",
       "      <td>276.689</td>\n",
       "      <td>276.689</td>\n",
       "      <td>HarvestRipe</td>\n",
       "      <td>1192.521</td>\n",
       "      <td>80</td>\n",
       "      <td>8</td>\n",
       "      <td>2766.890</td>\n",
       "      <td>Field</td>\n",
       "    </tr>\n",
       "    <tr>\n",
       "      <th>437</th>\n",
       "      <td>ExperimentNitrogen80Population8</td>\n",
       "      <td>27</td>\n",
       "      <td>1</td>\n",
       "      <td>Current</td>\n",
       "      <td>1998-03-06</td>\n",
       "      <td>Experiment</td>\n",
       "      <td>8.863</td>\n",
       "      <td>972.583</td>\n",
       "      <td>4.376</td>\n",
       "      <td>1061.822</td>\n",
       "      <td>0.306</td>\n",
       "      <td>325.148</td>\n",
       "      <td>325.148</td>\n",
       "      <td>HarvestRipe</td>\n",
       "      <td>1101.867</td>\n",
       "      <td>80</td>\n",
       "      <td>8</td>\n",
       "      <td>3251.475</td>\n",
       "      <td>Field</td>\n",
       "    </tr>\n",
       "    <tr>\n",
       "      <th>438</th>\n",
       "      <td>ExperimentNitrogen80Population8</td>\n",
       "      <td>27</td>\n",
       "      <td>1</td>\n",
       "      <td>Current</td>\n",
       "      <td>1999-04-10</td>\n",
       "      <td>Experiment</td>\n",
       "      <td>16.092</td>\n",
       "      <td>1962.350</td>\n",
       "      <td>11.719</td>\n",
       "      <td>3219.236</td>\n",
       "      <td>0.286</td>\n",
       "      <td>919.139</td>\n",
       "      <td>919.139</td>\n",
       "      <td>HarvestRipe</td>\n",
       "      <td>2126.469</td>\n",
       "      <td>80</td>\n",
       "      <td>8</td>\n",
       "      <td>9191.387</td>\n",
       "      <td>Field</td>\n",
       "    </tr>\n",
       "    <tr>\n",
       "      <th>439</th>\n",
       "      <td>ExperimentNitrogen80Population8</td>\n",
       "      <td>27</td>\n",
       "      <td>1</td>\n",
       "      <td>Current</td>\n",
       "      <td>2000-04-05</td>\n",
       "      <td>Experiment</td>\n",
       "      <td>5.625</td>\n",
       "      <td>743.725</td>\n",
       "      <td>3.823</td>\n",
       "      <td>2668.651</td>\n",
       "      <td>0.113</td>\n",
       "      <td>301.060</td>\n",
       "      <td>301.060</td>\n",
       "      <td>HarvestRipe</td>\n",
       "      <td>838.425</td>\n",
       "      <td>80</td>\n",
       "      <td>8</td>\n",
       "      <td>3010.599</td>\n",
       "      <td>Field</td>\n",
       "    </tr>\n",
       "  </tbody>\n",
       "</table>\n",
       "<p>440 rows × 19 columns</p>\n",
       "</div>"
      ],
      "text/plain": [
       "                      SimulationName  SimulationID  CheckpointID  \\\n",
       "0    ExperimentNitrogen0Population10            33             1   \n",
       "1    ExperimentNitrogen0Population10            33             1   \n",
       "2    ExperimentNitrogen0Population10            33             1   \n",
       "3    ExperimentNitrogen0Population10            33             1   \n",
       "4    ExperimentNitrogen0Population10            33             1   \n",
       "..                               ...           ...           ...   \n",
       "435  ExperimentNitrogen80Population8            27             1   \n",
       "436  ExperimentNitrogen80Population8            27             1   \n",
       "437  ExperimentNitrogen80Population8            27             1   \n",
       "438  ExperimentNitrogen80Population8            27             1   \n",
       "439  ExperimentNitrogen80Population8            27             1   \n",
       "\n",
       "    CheckpointName Clock.Today  Experiment  Maize.AboveGround.N  \\\n",
       "0          Current  1991-05-28  Experiment                7.557   \n",
       "1          Current  1992-04-09  Experiment                0.379   \n",
       "2          Current  1993-03-16  Experiment                1.593   \n",
       "3          Current  1994-03-15  Experiment                1.097   \n",
       "4          Current  1995-04-04  Experiment                4.910   \n",
       "..             ...         ...         ...                  ...   \n",
       "435        Current  1996-03-15  Experiment                9.282   \n",
       "436        Current  1997-04-05  Experiment                9.218   \n",
       "437        Current  1998-03-06  Experiment                8.863   \n",
       "438        Current  1999-04-10  Experiment               16.092   \n",
       "439        Current  2000-04-05  Experiment                5.625   \n",
       "\n",
       "     Maize.AboveGround.Wt  Maize.Grain.N  Maize.Grain.NumberFunction  \\\n",
       "0                1061.484          5.157                    3550.151   \n",
       "1                  60.550          0.000                       0.000   \n",
       "2                 253.212          0.985                     723.778   \n",
       "3                 148.141          0.856                     403.927   \n",
       "4                 785.159          3.030                    3012.005   \n",
       "..                    ...            ...                         ...   \n",
       "435              1413.514          6.965                    3026.456   \n",
       "436              1036.280          3.693                     923.010   \n",
       "437               972.583          4.376                    1061.822   \n",
       "438              1962.350         11.719                    3219.236   \n",
       "439               743.725          3.823                    2668.651   \n",
       "\n",
       "     Maize.Grain.Size  Maize.Grain.Total.Wt  Maize.Grain.Wt  \\\n",
       "0               0.124               438.523         438.523   \n",
       "1               0.000                 0.000           0.000   \n",
       "2               0.134                96.647          96.647   \n",
       "3               0.205                82.705          82.705   \n",
       "4               0.098               296.098         296.098   \n",
       "..                ...                   ...             ...   \n",
       "435             0.217               656.531         656.531   \n",
       "436             0.300               276.689         276.689   \n",
       "437             0.306               325.148         325.148   \n",
       "438             0.286               919.139         919.139   \n",
       "439             0.113               301.060         301.060   \n",
       "\n",
       "    Maize.Phenology.CurrentStageName  Maize.Total.Wt  Nitrogen  Population  \\\n",
       "0                        HarvestRipe        1149.863         0          10   \n",
       "1                        HarvestRipe          63.317         0          10   \n",
       "2                        HarvestRipe         279.508         0          10   \n",
       "3                        HarvestRipe         151.993         0          10   \n",
       "4                        HarvestRipe         869.135         0          10   \n",
       "..                               ...             ...       ...         ...   \n",
       "435                      HarvestRipe        1519.247        80           8   \n",
       "436                      HarvestRipe        1192.521        80           8   \n",
       "437                      HarvestRipe        1101.867        80           8   \n",
       "438                      HarvestRipe        2126.469        80           8   \n",
       "439                      HarvestRipe         838.425        80           8   \n",
       "\n",
       "        Yield   Zone  \n",
       "0    4385.230  Field  \n",
       "1       0.000  Field  \n",
       "2     966.473  Field  \n",
       "3     827.046  Field  \n",
       "4    2960.977  Field  \n",
       "..        ...    ...  \n",
       "435  6565.313  Field  \n",
       "436  2766.890  Field  \n",
       "437  3251.475  Field  \n",
       "438  9191.387  Field  \n",
       "439  3010.599  Field  \n",
       "\n",
       "[440 rows x 19 columns]"
      ]
     },
     "execution_count": 12,
     "metadata": {},
     "output_type": "execute_result"
    }
   ],
   "source": [
    "apsim.results"
   ]
  },
  {
   "cell_type": "code",
   "execution_count": 13,
   "id": "cc1506bc18da3e6a",
   "metadata": {
    "ExecuteTime": {
     "end_time": "2025-03-24T14:18:32.894776Z",
     "start_time": "2025-03-24T14:18:32.887635Z"
    },
    "collapsed": false,
    "jupyter": {
     "outputs_hidden": false
    }
   },
   "outputs": [
    {
     "data": {
      "text/plain": [
       "Nitrogen\n",
       "0      1861.229275\n",
       "20     2567.603025\n",
       "40     3272.925400\n",
       "60     3991.647400\n",
       "80     4745.264425\n",
       "100    5328.315600\n",
       "120    5671.880500\n",
       "140    5677.515725\n",
       "160    5649.098450\n",
       "180    5622.566750\n",
       "200    5607.456075\n",
       "Name: Yield, dtype: float64"
      ]
     },
     "execution_count": 13,
     "metadata": {},
     "output_type": "execute_result"
    }
   ],
   "source": [
    "apsim.results.groupby('Nitrogen')['Yield'].mean()"
   ]
  },
  {
   "cell_type": "code",
   "execution_count": 14,
   "id": "4bf65082587a2b9c",
   "metadata": {
    "ExecuteTime": {
     "end_time": "2025-03-24T14:18:46.994213600Z",
     "start_time": "2025-03-24T14:18:46.701561300Z"
    },
    "collapsed": false,
    "jupyter": {
     "outputs_hidden": false
    }
   },
   "outputs": [
    {
     "data": {
      "image/png": "[encoded data removed]",
      "text/plain": [
       "<Figure size 576.986x500 with 1 Axes>"
      ]
     },
     "metadata": {},
     "output_type": "display_data"
    }
   ],
   "source": [
    "import seaborn as sns\n",
    "sns.set_style('whitegrid')\n",
    "from matplotlib import pyplot as plt\n",
    "df= apsim.results \n",
    "df[['population' ]] = pd.Categorical(['Population'])\n",
    "sns.catplot(x='Nitrogen', y='Yield', hue='Population', data=df, kind='box', )\n",
    "plt.show()"
   ]
  },
  {
   "cell_type": "raw",
   "id": "36a7a33b1b653793",
   "metadata": {
    "collapsed": false,
    "jupyter": {
     "outputs_hidden": false
    }
   },
   "source": [
    "So, yield increased with increase in nitrogen and plant population"
   ]
  }
 ],
 "metadata": {
  "kernelspec": {
   "display_name": "Python 3",
   "language": "python",
   "name": "python3"
  },
  "language_info": {
   "codemirror_mode": {
    "name": "ipython",
    "version": 3
   },
   "file_extension": ".py",
   "mimetype": "text/x-python",
   "name": "python",
   "nbconvert_exporter": "python",
   "pygments_lexer": "ipython3",
   "version": "3.12.2"
  }
 },
 "nbformat": 4,
 "nbformat_minor": 5
}

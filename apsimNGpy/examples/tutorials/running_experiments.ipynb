{
 "cells": [
  {
   "cell_type": "code",
   "execution_count": 1,
   "id": "initial_id",
   "metadata": {
    "collapsed": true,
    "ExecuteTime": {
     "end_time": "2025-03-24T05:35:24.377824500Z",
     "start_time": "2025-03-24T05:35:22.257930700Z"
    }
   },
   "outputs": [],
   "source": [
    "from apsimNGpy.core.base_data import load_default_simulations\n",
    "from apsimNGpy.core.core import APSIMNG\n",
    "apsim = load_default_simulations(crop = 'Maize', simulations_object=True)\n",
    "apsim = APSIMNG(apsim.path)"
   ]
  },
  {
   "cell_type": "raw",
   "source": [
    "# create experiment\n",
    "Need to initiate the eperiment"
   ],
   "metadata": {
    "collapsed": false
   },
   "id": "5396405d82447cbf"
  },
  {
   "cell_type": "code",
   "outputs": [
    {
     "name": "stderr",
     "output_type": "stream",
     "text": [
      "2025-03-24 00:36:44,036 - C:\\Users\\rmagala/apsimNGpy_sim.log - INFO - Added Experiment to Simulations\n",
      "2025-03-24 00:36:44,179 - C:\\Users\\rmagala/apsimNGpy_sim.log - INFO - Added Factors to Experiment\n",
      "2025-03-24 00:36:44,303 - C:\\Users\\rmagala/apsimNGpy_sim.log - INFO - Added Permutation to Factors\n",
      "2025-03-24 00:36:44,426 - C:\\Users\\rmagala/apsimNGpy_sim.log - INFO - Moved Simulation to Experiment\n"
     ]
    }
   ],
   "source": [
    "apsim.create_experiment()\n"
   ],
   "metadata": {
    "collapsed": false,
    "ExecuteTime": {
     "end_time": "2025-03-24T05:36:44.690868600Z",
     "start_time": "2025-03-24T05:36:44.027352200Z"
    }
   },
   "id": "7e78a12c0146eaf8",
   "execution_count": 2
  },
  {
   "cell_type": "code",
   "outputs": [
    {
     "name": "stderr",
     "output_type": "stream",
     "text": [
      "2025-03-24 00:36:55,143 - C:\\Users\\rmagala/apsimNGpy_sim.log - INFO - Added Nitrogen to Permutation\n",
      "2025-03-24 00:36:55,367 - C:\\Users\\rmagala/apsimNGpy_sim.log - INFO - Added Population to Permutation\n"
     ]
    },
    {
     "data": {
      "text/plain": "<apsimNGpy.core.core.APSIMNG at 0x1b8715790a0>"
     },
     "execution_count": 3,
     "metadata": {},
     "output_type": "execute_result"
    }
   ],
   "source": [
    "apsim.add_factor(specification=\"[Fertilise at sowing].Script.Amount = 0 to 200 step 20\", factor_name='Nitrogen')\n",
    "apsim.add_factor(specification=\"[Sow using a variable rule].Script.Population =4 to 8 step 2\", factor_name='Population')\n",
    "apsim.run() "
   ],
   "metadata": {
    "collapsed": false,
    "ExecuteTime": {
     "end_time": "2025-03-24T05:37:00.253635600Z",
     "start_time": "2025-03-24T05:36:55.142672400Z"
    }
   },
   "id": "aef3fc4685eb1bb7",
   "execution_count": 3
  },
  {
   "cell_type": "raw",
   "source": [
    "run"
   ],
   "metadata": {
    "collapsed": false
   },
   "id": "e4df4a3da17a056c"
  },
  {
   "cell_type": "code",
   "outputs": [
    {
     "data": {
      "text/plain": "                      SimulationName  SimulationID  CheckpointID  \\\n0     ExperimentNitrogen0Population4             2             1   \n1     ExperimentNitrogen0Population4             2             1   \n2     ExperimentNitrogen0Population4             2             1   \n3     ExperimentNitrogen0Population4             2             1   \n4     ExperimentNitrogen0Population4             2             1   \n..                               ...           ...           ...   \n325  ExperimentNitrogen80Population8            26             1   \n326  ExperimentNitrogen80Population8            26             1   \n327  ExperimentNitrogen80Population8            26             1   \n328  ExperimentNitrogen80Population8            26             1   \n329  ExperimentNitrogen80Population8            26             1   \n\n    CheckpointName Clock.Today  Experiment  Maize.AboveGround.N  \\\n0          Current  1991-05-28  Experiment                7.383   \n1          Current  1992-04-09  Experiment                0.735   \n2          Current  1993-03-16  Experiment                1.581   \n3          Current  1994-03-15  Experiment                1.085   \n4          Current  1995-04-04  Experiment                4.826   \n..             ...         ...         ...                  ...   \n325        Current  1996-03-15  Experiment                9.282   \n326        Current  1997-04-05  Experiment                9.218   \n327        Current  1998-03-06  Experiment                8.863   \n328        Current  1999-04-10  Experiment               16.092   \n329        Current  2000-04-05  Experiment                5.625   \n\n     Maize.AboveGround.Wt  Maize.Grain.N  Maize.Grain.NumberFunction  \\\n0                1110.500          5.190                    2200.000   \n1                 111.506          0.560                     278.986   \n2                 241.372          1.010                     866.989   \n3                 147.981          0.840                     712.995   \n4                 667.949          3.193                    2160.254   \n..                    ...            ...                         ...   \n325              1413.514          6.965                    3026.456   \n326              1036.280          3.693                     923.010   \n327               972.583          4.376                    1061.822   \n328              1962.350         11.719                    3219.236   \n329               743.725          3.823                    2668.651   \n\n     Maize.Grain.Size  Maize.Grain.Total.Wt  Maize.Grain.Wt  \\\n0               0.204               449.638         449.638   \n1               0.213                59.487          59.487   \n2               0.112                97.370          97.370   \n3               0.123                87.516          87.516   \n4               0.132               285.520         285.520   \n..                ...                   ...             ...   \n325             0.217               656.531         656.531   \n326             0.300               276.689         276.689   \n327             0.306               325.148         325.148   \n328             0.286               919.139         919.139   \n329             0.113               301.060         301.060   \n\n    Maize.Phenology.CurrentStageName  Maize.Total.Wt  Nitrogen  Population  \\\n0                        HarvestRipe        1210.580         0           4   \n1                        HarvestRipe         114.903         0           4   \n2                        HarvestRipe         270.851         0           4   \n3                        HarvestRipe         153.028         0           4   \n4                        HarvestRipe         752.352         0           4   \n..                               ...             ...       ...         ...   \n325                      HarvestRipe        1519.247        80           8   \n326                      HarvestRipe        1192.521        80           8   \n327                      HarvestRipe        1101.867        80           8   \n328                      HarvestRipe        2126.469        80           8   \n329                      HarvestRipe         838.425        80           8   \n\n        Yield   Zone  \n0    4496.380  Field  \n1     594.872  Field  \n2     973.697  Field  \n3     875.156  Field  \n4    2855.197  Field  \n..        ...    ...  \n325  6565.313  Field  \n326  2766.890  Field  \n327  3251.475  Field  \n328  9191.387  Field  \n329  3010.599  Field  \n\n[330 rows x 19 columns]",
      "text/html": "<div>\n<style scoped>\n    .dataframe tbody tr th:only-of-type {\n        vertical-align: middle;\n    }\n\n    .dataframe tbody tr th {\n        vertical-align: top;\n    }\n\n    .dataframe thead th {\n        text-align: right;\n    }\n</style>\n<table border=\"1\" class=\"dataframe\">\n  <thead>\n    <tr style=\"text-align: right;\">\n      <th></th>\n      <th>SimulationName</th>\n      <th>SimulationID</th>\n      <th>CheckpointID</th>\n      <th>CheckpointName</th>\n      <th>Clock.Today</th>\n      <th>Experiment</th>\n      <th>Maize.AboveGround.N</th>\n      <th>Maize.AboveGround.Wt</th>\n      <th>Maize.Grain.N</th>\n      <th>Maize.Grain.NumberFunction</th>\n      <th>Maize.Grain.Size</th>\n      <th>Maize.Grain.Total.Wt</th>\n      <th>Maize.Grain.Wt</th>\n      <th>Maize.Phenology.CurrentStageName</th>\n      <th>Maize.Total.Wt</th>\n      <th>Nitrogen</th>\n      <th>Population</th>\n      <th>Yield</th>\n      <th>Zone</th>\n    </tr>\n  </thead>\n  <tbody>\n    <tr>\n      <th>0</th>\n      <td>ExperimentNitrogen0Population4</td>\n      <td>2</td>\n      <td>1</td>\n      <td>Current</td>\n      <td>1991-05-28</td>\n      <td>Experiment</td>\n      <td>7.383</td>\n      <td>1110.500</td>\n      <td>5.190</td>\n      <td>2200.000</td>\n      <td>0.204</td>\n      <td>449.638</td>\n      <td>449.638</td>\n      <td>HarvestRipe</td>\n      <td>1210.580</td>\n      <td>0</td>\n      <td>4</td>\n      <td>4496.380</td>\n      <td>Field</td>\n    </tr>\n    <tr>\n      <th>1</th>\n      <td>ExperimentNitrogen0Population4</td>\n      <td>2</td>\n      <td>1</td>\n      <td>Current</td>\n      <td>1992-04-09</td>\n      <td>Experiment</td>\n      <td>0.735</td>\n      <td>111.506</td>\n      <td>0.560</td>\n      <td>278.986</td>\n      <td>0.213</td>\n      <td>59.487</td>\n      <td>59.487</td>\n      <td>HarvestRipe</td>\n      <td>114.903</td>\n      <td>0</td>\n      <td>4</td>\n      <td>594.872</td>\n      <td>Field</td>\n    </tr>\n    <tr>\n      <th>2</th>\n      <td>ExperimentNitrogen0Population4</td>\n      <td>2</td>\n      <td>1</td>\n      <td>Current</td>\n      <td>1993-03-16</td>\n      <td>Experiment</td>\n      <td>1.581</td>\n      <td>241.372</td>\n      <td>1.010</td>\n      <td>866.989</td>\n      <td>0.112</td>\n      <td>97.370</td>\n      <td>97.370</td>\n      <td>HarvestRipe</td>\n      <td>270.851</td>\n      <td>0</td>\n      <td>4</td>\n      <td>973.697</td>\n      <td>Field</td>\n    </tr>\n    <tr>\n      <th>3</th>\n      <td>ExperimentNitrogen0Population4</td>\n      <td>2</td>\n      <td>1</td>\n      <td>Current</td>\n      <td>1994-03-15</td>\n      <td>Experiment</td>\n      <td>1.085</td>\n      <td>147.981</td>\n      <td>0.840</td>\n      <td>712.995</td>\n      <td>0.123</td>\n      <td>87.516</td>\n      <td>87.516</td>\n      <td>HarvestRipe</td>\n      <td>153.028</td>\n      <td>0</td>\n      <td>4</td>\n      <td>875.156</td>\n      <td>Field</td>\n    </tr>\n    <tr>\n      <th>4</th>\n      <td>ExperimentNitrogen0Population4</td>\n      <td>2</td>\n      <td>1</td>\n      <td>Current</td>\n      <td>1995-04-04</td>\n      <td>Experiment</td>\n      <td>4.826</td>\n      <td>667.949</td>\n      <td>3.193</td>\n      <td>2160.254</td>\n      <td>0.132</td>\n      <td>285.520</td>\n      <td>285.520</td>\n      <td>HarvestRipe</td>\n      <td>752.352</td>\n      <td>0</td>\n      <td>4</td>\n      <td>2855.197</td>\n      <td>Field</td>\n    </tr>\n    <tr>\n      <th>...</th>\n      <td>...</td>\n      <td>...</td>\n      <td>...</td>\n      <td>...</td>\n      <td>...</td>\n      <td>...</td>\n      <td>...</td>\n      <td>...</td>\n      <td>...</td>\n      <td>...</td>\n      <td>...</td>\n      <td>...</td>\n      <td>...</td>\n      <td>...</td>\n      <td>...</td>\n      <td>...</td>\n      <td>...</td>\n      <td>...</td>\n      <td>...</td>\n    </tr>\n    <tr>\n      <th>325</th>\n      <td>ExperimentNitrogen80Population8</td>\n      <td>26</td>\n      <td>1</td>\n      <td>Current</td>\n      <td>1996-03-15</td>\n      <td>Experiment</td>\n      <td>9.282</td>\n      <td>1413.514</td>\n      <td>6.965</td>\n      <td>3026.456</td>\n      <td>0.217</td>\n      <td>656.531</td>\n      <td>656.531</td>\n      <td>HarvestRipe</td>\n      <td>1519.247</td>\n      <td>80</td>\n      <td>8</td>\n      <td>6565.313</td>\n      <td>Field</td>\n    </tr>\n    <tr>\n      <th>326</th>\n      <td>ExperimentNitrogen80Population8</td>\n      <td>26</td>\n      <td>1</td>\n      <td>Current</td>\n      <td>1997-04-05</td>\n      <td>Experiment</td>\n      <td>9.218</td>\n      <td>1036.280</td>\n      <td>3.693</td>\n      <td>923.010</td>\n      <td>0.300</td>\n      <td>276.689</td>\n      <td>276.689</td>\n      <td>HarvestRipe</td>\n      <td>1192.521</td>\n      <td>80</td>\n      <td>8</td>\n      <td>2766.890</td>\n      <td>Field</td>\n    </tr>\n    <tr>\n      <th>327</th>\n      <td>ExperimentNitrogen80Population8</td>\n      <td>26</td>\n      <td>1</td>\n      <td>Current</td>\n      <td>1998-03-06</td>\n      <td>Experiment</td>\n      <td>8.863</td>\n      <td>972.583</td>\n      <td>4.376</td>\n      <td>1061.822</td>\n      <td>0.306</td>\n      <td>325.148</td>\n      <td>325.148</td>\n      <td>HarvestRipe</td>\n      <td>1101.867</td>\n      <td>80</td>\n      <td>8</td>\n      <td>3251.475</td>\n      <td>Field</td>\n    </tr>\n    <tr>\n      <th>328</th>\n      <td>ExperimentNitrogen80Population8</td>\n      <td>26</td>\n      <td>1</td>\n      <td>Current</td>\n      <td>1999-04-10</td>\n      <td>Experiment</td>\n      <td>16.092</td>\n      <td>1962.350</td>\n      <td>11.719</td>\n      <td>3219.236</td>\n      <td>0.286</td>\n      <td>919.139</td>\n      <td>919.139</td>\n      <td>HarvestRipe</td>\n      <td>2126.469</td>\n      <td>80</td>\n      <td>8</td>\n      <td>9191.387</td>\n      <td>Field</td>\n    </tr>\n    <tr>\n      <th>329</th>\n      <td>ExperimentNitrogen80Population8</td>\n      <td>26</td>\n      <td>1</td>\n      <td>Current</td>\n      <td>2000-04-05</td>\n      <td>Experiment</td>\n      <td>5.625</td>\n      <td>743.725</td>\n      <td>3.823</td>\n      <td>2668.651</td>\n      <td>0.113</td>\n      <td>301.060</td>\n      <td>301.060</td>\n      <td>HarvestRipe</td>\n      <td>838.425</td>\n      <td>80</td>\n      <td>8</td>\n      <td>3010.599</td>\n      <td>Field</td>\n    </tr>\n  </tbody>\n</table>\n<p>330 rows × 19 columns</p>\n</div>"
     },
     "execution_count": 4,
     "metadata": {},
     "output_type": "execute_result"
    }
   ],
   "source": [
    "apsim.results"
   ],
   "metadata": {
    "collapsed": false,
    "ExecuteTime": {
     "end_time": "2025-03-24T05:37:12.839257Z",
     "start_time": "2025-03-24T05:37:12.790428Z"
    }
   },
   "id": "bedbf89e843736f",
   "execution_count": 4
  },
  {
   "cell_type": "code",
   "outputs": [],
   "source": [],
   "metadata": {
    "collapsed": false
   },
   "id": "cc1506bc18da3e6a"
  }
 ],
 "metadata": {
  "kernelspec": {
   "display_name": "Python 3",
   "language": "python",
   "name": "python3"
  },
  "language_info": {
   "codemirror_mode": {
    "name": "ipython",
    "version": 2
   },
   "file_extension": ".py",
   "mimetype": "text/x-python",
   "name": "python",
   "nbconvert_exporter": "python",
   "pygments_lexer": "ipython2",
   "version": "2.7.6"
  }
 },
 "nbformat": 4,
 "nbformat_minor": 5
}

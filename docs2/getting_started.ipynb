{
 "cells": [
  {
   "cell_type": "markdown",
   "source": [
    "# Getting Started\n",
    "\n",
    "## Installation\n",
    "apsimNGpy is written in pure Python, but uses pythonnet to load APSIM .dll. Thus, it needs the path to the APSIM software binary folder, which can be challenging to track given different installation location preferences by the users'. Therefore, we advise you to closely follow the recommendations below to avoid usage problems.\n",
    "apsimNGpy can be  installed by pip package"
   ],
   "metadata": {
    "collapsed": false
   },
   "id": "6f135777338277fc"
  },
  {
   "cell_type": "markdown",
   "source": [
    "pip install apsimNGpy"
   ],
   "metadata": {
    "collapsed": false
   },
   "id": "7d8e65363616619d"
  },
  {
   "cell_type": "markdown",
   "source": [
    "Alternatively, you can install it via GitHub"
   ],
   "metadata": {
    "collapsed": false
   },
   "id": "926ffa4d22f4ad63"
  },
  {
   "cell_type": "markdown",
   "source": [
    "pip install git+https://github.com/MAGALA-RICHARD/apsimNGpy.git "
   ],
   "metadata": {
    "collapsed": false
   },
   "id": "e6f0bcc995e65ea7"
  },
  {
   "cell_type": "code",
   "outputs": [
    {
     "name": "stdout",
     "output_type": "stream",
     "text": [
      "2\n"
     ]
    }
   ],
   "source": [
    "print(2)"
   ],
   "metadata": {
    "collapsed": false,
    "ExecuteTime": {
     "end_time": "2024-12-04T16:28:44.894850100Z",
     "start_time": "2024-12-04T16:28:44.889845600Z"
    }
   },
   "id": "ae287d213f3c9420",
   "execution_count": 2
  },
  {
   "cell_type": "code",
   "outputs": [],
   "source": [],
   "metadata": {
    "collapsed": false
   },
   "id": "728b7c6f2aabc321"
  },
  {
   "cell_type": "markdown",
   "source": [],
   "metadata": {
    "collapsed": false
   },
   "id": "b0e6cc3189db8431"
  }
 ],
 "metadata": {
  "kernelspec": {
   "display_name": "Python 3",
   "language": "python",
   "name": "python3"
  },
  "language_info": {
   "codemirror_mode": {
    "name": "ipython",
    "version": 2
   },
   "file_extension": ".py",
   "mimetype": "text/x-python",
   "name": "python",
   "nbconvert_exporter": "python",
   "pygments_lexer": "ipython2",
   "version": "2.7.6"
  }
 },
 "nbformat": 4,
 "nbformat_minor": 5
}
